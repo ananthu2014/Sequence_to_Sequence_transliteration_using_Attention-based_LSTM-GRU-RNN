{
 "cells": [
  {
   "cell_type": "code",
   "execution_count": 1,
   "id": "aabfad16",
   "metadata": {},
   "outputs": [],
   "source": [
    "import torch\n",
    "import torch.nn as nn\n",
    "import torch.optim as optim\n",
    "from torch.autograd import Variable\n",
    "import torch.nn.functional as F\n",
    "import numpy as np\n",
    "import pandas as pd\n",
    "from torch.utils.data import Dataset, DataLoader\n",
    "import torch\n",
    "import torch.nn as nn\n",
    "import sys\n",
    "import random\n",
    "import wandb\n",
    "from torch.utils.data import TensorDataset\n",
    "from tqdm import tqdm\n",
    "\n"
   ]
  },
  {
   "cell_type": "code",
   "execution_count": 2,
   "id": "3654d4bb",
   "metadata": {},
   "outputs": [
    {
     "data": {
      "text/plain": [
       "device(type='cuda')"
      ]
     },
     "execution_count": 2,
     "metadata": {},
     "output_type": "execute_result"
    }
   ],
   "source": [
    "if torch.cuda.is_available():\n",
    "    device = torch.device('cuda')\n",
    "else:\n",
    "    device = torch.device('cpu')\n",
    "device"
   ]
  },
  {
   "cell_type": "code",
   "execution_count": 3,
   "id": "c0aa7f07",
   "metadata": {},
   "outputs": [],
   "source": [
    "import os\n",
    "\n",
    "os.environ[\"WANDB_NOTEBOOK_NAME\"] = '/home/agcl/Downloads/CS6910_ASSIGNMENT_3-ATTENTION-model2.ipynb'"
   ]
  },
  {
   "cell_type": "code",
   "execution_count": 4,
   "id": "0c662162",
   "metadata": {},
   "outputs": [
    {
     "name": "stderr",
     "output_type": "stream",
     "text": [
      "\u001b[34m\u001b[1mwandb\u001b[0m: \u001b[33mWARNING\u001b[0m WANDB_NOTEBOOK_NAME should be a path to a notebook file, couldn't find /home/agcl/Downloads/CS6910_ASSIGNMENT_3-ATTENTION-model2.ipynb.\n",
      "\u001b[34m\u001b[1mwandb\u001b[0m: Currently logged in as: \u001b[33mananthu2014\u001b[0m. Use \u001b[1m`wandb login --relogin`\u001b[0m to force relogin\n"
     ]
    },
    {
     "data": {
      "text/plain": [
       "True"
      ]
     },
     "execution_count": 4,
     "metadata": {},
     "output_type": "execute_result"
    }
   ],
   "source": [
    "wandb.login()"
   ]
  },
  {
   "cell_type": "code",
   "execution_count": 5,
   "id": "d0da7538",
   "metadata": {},
   "outputs": [],
   "source": [
    "'''function to load the data'''\n",
    "def load_data(path,language_names):\n",
    "    df=pd.read_csv(path,header=None)\n",
    "    df.columns=language_names\n",
    "    return df"
   ]
  },
  {
   "cell_type": "code",
   "execution_count": 6,
   "id": "75791f88",
   "metadata": {},
   "outputs": [
    {
     "name": "stdout",
     "output_type": "stream",
     "text": [
      "(51200, 2)\n"
     ]
    },
    {
     "data": {
      "text/html": [
       "<div>\n",
       "<style scoped>\n",
       "    .dataframe tbody tr th:only-of-type {\n",
       "        vertical-align: middle;\n",
       "    }\n",
       "\n",
       "    .dataframe tbody tr th {\n",
       "        vertical-align: top;\n",
       "    }\n",
       "\n",
       "    .dataframe thead th {\n",
       "        text-align: right;\n",
       "    }\n",
       "</style>\n",
       "<table border=\"1\" class=\"dataframe\">\n",
       "  <thead>\n",
       "    <tr style=\"text-align: right;\">\n",
       "      <th></th>\n",
       "      <th>English</th>\n",
       "      <th>transliteration_in_hindi</th>\n",
       "    </tr>\n",
       "  </thead>\n",
       "  <tbody>\n",
       "    <tr>\n",
       "      <th>0</th>\n",
       "      <td>shastragaar</td>\n",
       "      <td>शस्त्रागार</td>\n",
       "    </tr>\n",
       "    <tr>\n",
       "      <th>1</th>\n",
       "      <td>bindhya</td>\n",
       "      <td>बिन्द्या</td>\n",
       "    </tr>\n",
       "    <tr>\n",
       "      <th>2</th>\n",
       "      <td>kirankant</td>\n",
       "      <td>किरणकांत</td>\n",
       "    </tr>\n",
       "    <tr>\n",
       "      <th>3</th>\n",
       "      <td>yagyopaveet</td>\n",
       "      <td>यज्ञोपवीत</td>\n",
       "    </tr>\n",
       "    <tr>\n",
       "      <th>4</th>\n",
       "      <td>ratania</td>\n",
       "      <td>रटानिया</td>\n",
       "    </tr>\n",
       "    <tr>\n",
       "      <th>...</th>\n",
       "      <td>...</td>\n",
       "      <td>...</td>\n",
       "    </tr>\n",
       "    <tr>\n",
       "      <th>51195</th>\n",
       "      <td>toned</td>\n",
       "      <td>टोंड</td>\n",
       "    </tr>\n",
       "    <tr>\n",
       "      <th>51196</th>\n",
       "      <td>mutanaazaa</td>\n",
       "      <td>मुतनाज़ा</td>\n",
       "    </tr>\n",
       "    <tr>\n",
       "      <th>51197</th>\n",
       "      <td>asahmaton</td>\n",
       "      <td>असहमतों</td>\n",
       "    </tr>\n",
       "    <tr>\n",
       "      <th>51198</th>\n",
       "      <td>sulgaayin</td>\n",
       "      <td>सुलगायीं</td>\n",
       "    </tr>\n",
       "    <tr>\n",
       "      <th>51199</th>\n",
       "      <td>anchuthengu</td>\n",
       "      <td>अंचुतेंगु</td>\n",
       "    </tr>\n",
       "  </tbody>\n",
       "</table>\n",
       "<p>51200 rows × 2 columns</p>\n",
       "</div>"
      ],
      "text/plain": [
       "           English transliteration_in_hindi\n",
       "0      shastragaar               शस्त्रागार\n",
       "1          bindhya                 बिन्द्या\n",
       "2        kirankant                 किरणकांत\n",
       "3      yagyopaveet                यज्ञोपवीत\n",
       "4          ratania                  रटानिया\n",
       "...            ...                      ...\n",
       "51195        toned                     टोंड\n",
       "51196   mutanaazaa                 मुतनाज़ा\n",
       "51197    asahmaton                  असहमतों\n",
       "51198    sulgaayin                 सुलगायीं\n",
       "51199  anchuthengu                अंचुतेंगु\n",
       "\n",
       "[51200 rows x 2 columns]"
      ]
     },
     "execution_count": 6,
     "metadata": {},
     "output_type": "execute_result"
    }
   ],
   "source": [
    "'''Here,basically,the input is given to the encoder in English language and is transliterated to Hindi\n",
    "by the decoder'''\n",
    "path_train=\"/home/agcl/Downloads/hin_train.csv\"\n",
    "language_names = ['English','transliteration_in_hindi']\n",
    "df_train=load_data(path_train,language_names)\n",
    "print(df_train.shape)\n",
    "df_train"
   ]
  },
  {
   "cell_type": "code",
   "execution_count": 7,
   "id": "b822674e",
   "metadata": {},
   "outputs": [
    {
     "name": "stdout",
     "output_type": "stream",
     "text": [
      "(4096, 2)\n",
      "(4096, 2)\n"
     ]
    }
   ],
   "source": [
    "#path_test=\"C:/Users/anant/Downloads/hin_test.csv\"\n",
    "path_test=\"/home/agcl/Downloads/hin_test.csv\"\n",
    "#path_validation=\"C:/Users/anant/Downloads/hin_valid.csv\"\n",
    "path_validation=\"/home/agcl/Downloads/hin_valid.csv\"\n",
    "df_validation=load_data(path_validation,language_names)\n",
    "print(df_validation.shape)\n",
    "df_test=load_data(path_test,language_names)\n",
    "print(df_test.shape)"
   ]
  },
  {
   "cell_type": "code",
   "execution_count": 8,
   "id": "0f13c0ee",
   "metadata": {},
   "outputs": [],
   "source": [
    "'''Function for acquiring all the characters of the given data'''\n",
    "def split_words(x):\n",
    "    x=np.array(x)\n",
    "    alpha=['_','\\t','\\n',' '] #pad token, start of word, end of word and unknown tokens\n",
    "    b=[]\n",
    "    for i in range(x.shape[0]):\n",
    "        a=list(x[i])\n",
    "        for j in range(len(a)):\n",
    "            if a[j] not in b:\n",
    "                b.append(a[j])\n",
    "    b=sorted(b)\n",
    "    alpha=alpha+b\n",
    "    return alpha"
   ]
  },
  {
   "cell_type": "code",
   "execution_count": 9,
   "id": "09d5c5bf",
   "metadata": {},
   "outputs": [],
   "source": [
    "'''All the english characters are stored into the list english_vocab and all the hindi characters are\n",
    "stored into the list hindi_vocab'''\n",
    "english_vocab=split_words(df_train['English'])\n",
    "hindi_vocab=split_words(df_train['transliteration_in_hindi'])"
   ]
  },
  {
   "cell_type": "code",
   "execution_count": 10,
   "id": "766389b2",
   "metadata": {},
   "outputs": [
    {
     "name": "stdout",
     "output_type": "stream",
     "text": [
      "30\n",
      "68\n",
      "['_', '\\t', '\\n', ' ', 'a', 'b', 'c', 'd', 'e', 'f', 'g', 'h', 'i', 'j', 'k', 'l', 'm', 'n', 'o', 'p', 'q', 'r', 's', 't', 'u', 'v', 'w', 'x', 'y', 'z']\n",
      "['_', '\\t', '\\n', ' ', 'ँ', 'ं', 'ः', 'अ', 'आ', 'इ', 'ई', 'उ', 'ऊ', 'ऋ', 'ए', 'ऐ', 'ऑ', 'ओ', 'औ', 'क', 'ख', 'ग', 'घ', 'ङ', 'च', 'छ', 'ज', 'झ', 'ञ', 'ट', 'ठ', 'ड', 'ढ', 'ण', 'त', 'थ', 'द', 'ध', 'न', 'प', 'फ', 'ब', 'भ', 'म', 'य', 'र', 'ल', 'ळ', 'व', 'श', 'ष', 'स', 'ह', '़', 'ऽ', 'ा', 'ि', 'ी', 'ु', 'ू', 'ृ', 'ॅ', 'े', 'ै', 'ॉ', 'ो', 'ौ', '्']\n"
     ]
    }
   ],
   "source": [
    "print(len(english_vocab))\n",
    "print(len(hindi_vocab))\n",
    "print(english_vocab)\n",
    "print(hindi_vocab)"
   ]
  },
  {
   "cell_type": "code",
   "execution_count": 11,
   "id": "209154f5",
   "metadata": {},
   "outputs": [],
   "source": [
    "'''Functions to create the vocabulary dictionaries with their indices'''\n",
    "def int_to_char(vocab):\n",
    "    int2char={} #padding token, start of word, end of word token and unknown token\n",
    "    for i in range(len(vocab)):\n",
    "        int2char[i]=vocab[i][0]\n",
    "    return int2char"
   ]
  },
  {
   "cell_type": "code",
   "execution_count": 12,
   "id": "49dc0e5a",
   "metadata": {},
   "outputs": [
    {
     "name": "stdout",
     "output_type": "stream",
     "text": [
      "{0: '_', 1: '\\t', 2: '\\n', 3: ' ', 4: 'a', 5: 'b', 6: 'c', 7: 'd', 8: 'e', 9: 'f', 10: 'g', 11: 'h', 12: 'i', 13: 'j', 14: 'k', 15: 'l', 16: 'm', 17: 'n', 18: 'o', 19: 'p', 20: 'q', 21: 'r', 22: 's', 23: 't', 24: 'u', 25: 'v', 26: 'w', 27: 'x', 28: 'y', 29: 'z'}\n"
     ]
    }
   ],
   "source": [
    "int2char_eng=int_to_char(english_vocab)\n",
    "print(int2char_eng)"
   ]
  },
  {
   "cell_type": "code",
   "execution_count": 13,
   "id": "e0a0b250",
   "metadata": {},
   "outputs": [],
   "source": [
    "def char_to_int(int2char):\n",
    "    char2int={ch:ii for ii,ch in int2char.items()}\n",
    "    return char2int"
   ]
  },
  {
   "cell_type": "code",
   "execution_count": 14,
   "id": "d6336f2c",
   "metadata": {},
   "outputs": [
    {
     "name": "stdout",
     "output_type": "stream",
     "text": [
      "{'_': 0, '\\t': 1, '\\n': 2, ' ': 3, 'a': 4, 'b': 5, 'c': 6, 'd': 7, 'e': 8, 'f': 9, 'g': 10, 'h': 11, 'i': 12, 'j': 13, 'k': 14, 'l': 15, 'm': 16, 'n': 17, 'o': 18, 'p': 19, 'q': 20, 'r': 21, 's': 22, 't': 23, 'u': 24, 'v': 25, 'w': 26, 'x': 27, 'y': 28, 'z': 29}\n"
     ]
    }
   ],
   "source": [
    "char2int_eng=char_to_int(int2char_eng)\n",
    "print(char2int_eng)"
   ]
  },
  {
   "cell_type": "code",
   "execution_count": 15,
   "id": "5edad018",
   "metadata": {},
   "outputs": [
    {
     "name": "stdout",
     "output_type": "stream",
     "text": [
      "{0: '_', 1: '\\t', 2: '\\n', 3: ' ', 4: 'ँ', 5: 'ं', 6: 'ः', 7: 'अ', 8: 'आ', 9: 'इ', 10: 'ई', 11: 'उ', 12: 'ऊ', 13: 'ऋ', 14: 'ए', 15: 'ऐ', 16: 'ऑ', 17: 'ओ', 18: 'औ', 19: 'क', 20: 'ख', 21: 'ग', 22: 'घ', 23: 'ङ', 24: 'च', 25: 'छ', 26: 'ज', 27: 'झ', 28: 'ञ', 29: 'ट', 30: 'ठ', 31: 'ड', 32: 'ढ', 33: 'ण', 34: 'त', 35: 'थ', 36: 'द', 37: 'ध', 38: 'न', 39: 'प', 40: 'फ', 41: 'ब', 42: 'भ', 43: 'म', 44: 'य', 45: 'र', 46: 'ल', 47: 'ळ', 48: 'व', 49: 'श', 50: 'ष', 51: 'स', 52: 'ह', 53: '़', 54: 'ऽ', 55: 'ा', 56: 'ि', 57: 'ी', 58: 'ु', 59: 'ू', 60: 'ृ', 61: 'ॅ', 62: 'े', 63: 'ै', 64: 'ॉ', 65: 'ो', 66: 'ौ', 67: '्'}\n"
     ]
    }
   ],
   "source": [
    "int2char_hin=int_to_char(hindi_vocab)\n",
    "print(int2char_hin)"
   ]
  },
  {
   "cell_type": "code",
   "execution_count": 16,
   "id": "57c7a94f",
   "metadata": {},
   "outputs": [
    {
     "name": "stdout",
     "output_type": "stream",
     "text": [
      "{'_': 0, '\\t': 1, '\\n': 2, ' ': 3, 'ँ': 4, 'ं': 5, 'ः': 6, 'अ': 7, 'आ': 8, 'इ': 9, 'ई': 10, 'उ': 11, 'ऊ': 12, 'ऋ': 13, 'ए': 14, 'ऐ': 15, 'ऑ': 16, 'ओ': 17, 'औ': 18, 'क': 19, 'ख': 20, 'ग': 21, 'घ': 22, 'ङ': 23, 'च': 24, 'छ': 25, 'ज': 26, 'झ': 27, 'ञ': 28, 'ट': 29, 'ठ': 30, 'ड': 31, 'ढ': 32, 'ण': 33, 'त': 34, 'थ': 35, 'द': 36, 'ध': 37, 'न': 38, 'प': 39, 'फ': 40, 'ब': 41, 'भ': 42, 'म': 43, 'य': 44, 'र': 45, 'ल': 46, 'ळ': 47, 'व': 48, 'श': 49, 'ष': 50, 'स': 51, 'ह': 52, '़': 53, 'ऽ': 54, 'ा': 55, 'ि': 56, 'ी': 57, 'ु': 58, 'ू': 59, 'ृ': 60, 'ॅ': 61, 'े': 62, 'ै': 63, 'ॉ': 64, 'ो': 65, 'ौ': 66, '्': 67}\n"
     ]
    }
   ],
   "source": [
    "char2int_hin=char_to_int(int2char_hin)\n",
    "print(char2int_hin)"
   ]
  },
  {
   "cell_type": "code",
   "execution_count": 17,
   "id": "72c0f919",
   "metadata": {},
   "outputs": [],
   "source": [
    "'''Finding the maximum sequence length'''\n",
    "length_eng=[len(i) for i in df_train['English']]\n",
    "length_hin=[len(i) for i in df_train['transliteration_in_hindi']]"
   ]
  },
  {
   "cell_type": "code",
   "execution_count": 18,
   "id": "569c1309",
   "metadata": {},
   "outputs": [
    {
     "name": "stdout",
     "output_type": "stream",
     "text": [
      "The maximum sequence length of English words is 26\n",
      "The maximum sequence length of transliterated words is 22\n"
     ]
    }
   ],
   "source": [
    "length_eng_max=max(length_eng)+2 #we have to account for the start and end token\n",
    "print(f'The maximum sequence length of English words is {length_eng_max}')\n",
    "length_hin_max=max(length_hin)+2\n",
    "print(f'The maximum sequence length of transliterated words is {length_hin_max}')"
   ]
  },
  {
   "cell_type": "code",
   "execution_count": 19,
   "id": "00064a3d",
   "metadata": {},
   "outputs": [
    {
     "name": "stdout",
     "output_type": "stream",
     "text": [
      "30\n"
     ]
    }
   ],
   "source": [
    "num_english_tokens=len(english_vocab)\n",
    "print(num_english_tokens)"
   ]
  },
  {
   "cell_type": "code",
   "execution_count": 20,
   "id": "8e3fabb0",
   "metadata": {},
   "outputs": [
    {
     "name": "stdout",
     "output_type": "stream",
     "text": [
      "68\n"
     ]
    }
   ],
   "source": [
    "num_hindi_tokens=len(hindi_vocab)\n",
    "print(num_hindi_tokens)"
   ]
  },
  {
   "cell_type": "code",
   "execution_count": 21,
   "id": "29cd6595",
   "metadata": {},
   "outputs": [
    {
     "name": "stdout",
     "output_type": "stream",
     "text": [
      "26\n",
      "22\n"
     ]
    }
   ],
   "source": [
    "print(length_eng_max)\n",
    "print(length_hin_max)"
   ]
  },
  {
   "cell_type": "code",
   "execution_count": 22,
   "id": "d56f79e3",
   "metadata": {},
   "outputs": [
    {
     "name": "stdout",
     "output_type": "stream",
     "text": [
      "{0: '_', 1: '\\t', 2: '\\n', 3: ' ', 4: 'a', 5: 'b', 6: 'c', 7: 'd', 8: 'e', 9: 'f', 10: 'g', 11: 'h', 12: 'i', 13: 'j', 14: 'k', 15: 'l', 16: 'm', 17: 'n', 18: 'o', 19: 'p', 20: 'q', 21: 'r', 22: 's', 23: 't', 24: 'u', 25: 'v', 26: 'w', 27: 'x', 28: 'y', 29: 'z'}\n"
     ]
    },
    {
     "data": {
      "text/plain": [
       "'The position of padding is zero itself, so we can create tensors using torch.zeros and proceed'"
      ]
     },
     "execution_count": 22,
     "metadata": {},
     "output_type": "execute_result"
    }
   ],
   "source": [
    "print(int2char_eng)\n",
    "'''The position of padding is zero itself, so we can create tensors using torch.zeros and proceed'''"
   ]
  },
  {
   "cell_type": "code",
   "execution_count": 23,
   "id": "2dfa059e",
   "metadata": {},
   "outputs": [],
   "source": [
    "def process_data(df,english_vocab=english_vocab,hindi_vocab=hindi_vocab,\n",
    "                 length_eng_max=length_eng_max,length_hin_max=length_hin_max,char2int_eng=char2int_eng\n",
    "                 ,char2int_hin=char2int_hin):\n",
    "    \n",
    "    '''removing words of length more than max length'''\n",
    "    df['English'] = df['English'].str.lower()\n",
    "    df['transliteration_in_hindi'] = df['transliteration_in_hindi'].str.lower()\n",
    "    df = df[df['English'].apply(len) <= length_eng_max-2]\n",
    "    df = df[df['transliteration_in_hindi'].apply(len) <= length_hin_max-2]\n",
    "    '''Adding start and end of word tokens'''\n",
    "    y_og = df['transliteration_in_hindi'].values\n",
    "    x_og = df['English'].values\n",
    "    x = '\\t'+x_og+'\\n'\n",
    "    y = '\\t'+y_og+'\\n'\n",
    "    y_do=y_og+'\\n'\n",
    "    unknown=3\n",
    "    pad=0\n",
    "    pad_char='_'\n",
    "    unknown_char=' '\n",
    "    start=1\n",
    "    end=2\n",
    "    \n",
    "    enc_input_data=torch.zeros(len(x),length_eng_max)\n",
    "    dec_input_data=torch.zeros(len(y),length_hin_max)\n",
    "    dec_output_data=torch.zeros(len(y),length_hin_max)\n",
    "    for i, (xx,yy) in enumerate(zip(x,y)):\n",
    "        for j,char in enumerate(xx):\n",
    "            enc_input_data[i,j]=char2int_eng[char]\n",
    "        #pad character is zero so no need of assigning it again\n",
    "        for j,char in enumerate(yy):\n",
    "            if char in hindi_vocab:\n",
    "                dec_input_data[i,j]=char2int_hin[char]\n",
    "            else:\n",
    "                dec_input_data[i,j]=char2int_hin[unknown_char]\n",
    "    \n",
    "    for i, (xx,yy) in enumerate(zip(x,y_do)):\n",
    "        for j,char in enumerate(yy):\n",
    "            if char in hindi_vocab:\n",
    "                dec_output_data[i,j]=char2int_hin[char]\n",
    "            else:\n",
    "                dec_input_data[i,j]=char2int_hin[unknown_char]\n",
    "                \n",
    "    return enc_input_data,dec_input_data,dec_output_data"
   ]
  },
  {
   "cell_type": "code",
   "execution_count": 24,
   "id": "9e201b17",
   "metadata": {},
   "outputs": [],
   "source": [
    "def one_hot_encoding(df,english_vocab=english_vocab,hindi_vocab=hindi_vocab,\n",
    "                 length_eng_max=length_eng_max,length_hin_max=length_hin_max,char2int_eng=char2int_eng\n",
    "                 ,char2int_hin=char2int_hin):\n",
    "    \n",
    "    \n",
    "    '''removing words of length more than max length'''\n",
    "    df = df[df['English'].apply(len) <= length_eng_max-2]\n",
    "    df = df[df['transliteration_in_hindi'].apply(len) <= length_hin_max-2]\n",
    "    '''Adding start and end of word tokens'''\n",
    "    y = df['transliteration_in_hindi'].values\n",
    "    x= df['English'].values\n",
    "    x = '\\t'+x+'\\n'\n",
    "    y = '\\t'+y+'\\n'\n",
    "    \n",
    "    unknown=3\n",
    "    pad=0\n",
    "    pad_char='_'\n",
    "    unknown_char=' '\n",
    "    start=1\n",
    "    end=2\n",
    "    \n",
    "    encoder_input_data = np.zeros(\n",
    "    (len(df['English']), length_eng_max, num_english_tokens), dtype=\"float32\")\n",
    "    decoder_input_data = np.zeros(\n",
    "    (len(df['transliteration_in_hindi']), length_hin_max, num_hindi_tokens), dtype=\"float32\")\n",
    "    decoder_output_data = np.zeros(\n",
    "    (len(df['transliteration_in_hindi']), length_hin_max, num_hindi_tokens), dtype=\"float32\")\n",
    "    pad_char='_'\n",
    "    for i , (input_text,target_text) in enumerate(zip(x,y)):\n",
    "        for t,char in enumerate(input_text):\n",
    "            encoder_input_data[i,t,char2int_eng[char]]=1\n",
    "        encoder_input_data[i,t+1:,char2int_eng[pad_char]]=1\n",
    "    \n",
    "        for t,char in enumerate(target_text):\n",
    "            if char in hindi_vocab:\n",
    "                decoder_input_data[i,t,char2int_hin[char]]=1\n",
    "            else:\n",
    "                decoder_input_data[i,t,char2int_hin[unknown_char]]=1\n",
    "        decoder_input_data[i,t+1:,char2int_hin[pad_char]]=1\n",
    "    \n",
    "        '''decoder target data is one step ahead of decoder input data by one timestep\n",
    "        and doesnot includes start token'''\n",
    "        for t,char in enumerate(target_text):\n",
    "            if t>0:\n",
    "                if char in hindi_vocab:\n",
    "                    decoder_output_data[i,t-1,char2int_hin[char]]=1\n",
    "                else:\n",
    "                    decoder_output_data[i,t-1,char2int_hin[unknown_char]]=1\n",
    "                \n",
    "        decoder_output_data[i,t:,char2int_hin[pad_char]]=1\n",
    "    \n",
    "    return torch.tensor(encoder_input_data),torch.tensor(decoder_input_data),torch.tensor(decoder_output_data)\n",
    "    \n",
    "    "
   ]
  },
  {
   "cell_type": "code",
   "execution_count": 25,
   "id": "7e5dcd7f",
   "metadata": {},
   "outputs": [],
   "source": [
    "enc_input_data,dec_input_data,dec_output_data=process_data(df_train)"
   ]
  },
  {
   "cell_type": "code",
   "execution_count": 26,
   "id": "407cc091",
   "metadata": {},
   "outputs": [],
   "source": [
    "encoder_input_data,decoder_input_data,decoder_output_data=one_hot_encoding(df_train)"
   ]
  },
  {
   "cell_type": "code",
   "execution_count": 27,
   "id": "14b89fb3",
   "metadata": {},
   "outputs": [
    {
     "name": "stdout",
     "output_type": "stream",
     "text": [
      "torch.Size([51200, 26])\n",
      "torch.Size([51200, 22])\n"
     ]
    }
   ],
   "source": [
    "print(enc_input_data.shape)\n",
    "print(dec_input_data.shape)"
   ]
  },
  {
   "cell_type": "code",
   "execution_count": 28,
   "id": "e9938947",
   "metadata": {},
   "outputs": [
    {
     "name": "stdout",
     "output_type": "stream",
     "text": [
      "torch.Size([51200, 26, 30])\n",
      "torch.Size([51200, 22, 68])\n",
      "torch.Size([51200, 22, 68])\n"
     ]
    }
   ],
   "source": [
    "print(encoder_input_data.shape)\n",
    "print(decoder_input_data.shape)\n",
    "print(decoder_output_data.shape)"
   ]
  },
  {
   "cell_type": "code",
   "execution_count": 29,
   "id": "595cf37d",
   "metadata": {},
   "outputs": [
    {
     "name": "stdout",
     "output_type": "stream",
     "text": [
      "tensor([ 1., 49., 51., 67., 34., 67., 45., 55., 21., 55., 45.,  2.,  0.,  0.,\n",
      "         0.,  0.,  0.,  0.,  0.,  0.,  0.,  0.])\n"
     ]
    }
   ],
   "source": [
    "print(dec_input_data[0])"
   ]
  },
  {
   "cell_type": "code",
   "execution_count": 30,
   "id": "4f82c298",
   "metadata": {},
   "outputs": [
    {
     "name": "stdout",
     "output_type": "stream",
     "text": [
      "tensor([49., 51., 67., 34., 67., 45., 55., 21., 55., 45.,  2.,  0.,  0.,  0.,\n",
      "         0.,  0.,  0.,  0.,  0.,  0.,  0.,  0.])\n"
     ]
    }
   ],
   "source": [
    "print(dec_output_data[0])"
   ]
  },
  {
   "cell_type": "code",
   "execution_count": 31,
   "id": "ee105331",
   "metadata": {},
   "outputs": [],
   "source": [
    "enc_input_data_test,dec_input_data_test,dec_output_data_test=process_data(df_test)"
   ]
  },
  {
   "cell_type": "code",
   "execution_count": 32,
   "id": "d7c2e103",
   "metadata": {},
   "outputs": [
    {
     "name": "stdout",
     "output_type": "stream",
     "text": [
      "torch.Size([4095, 26])\n",
      "torch.Size([4095, 22])\n"
     ]
    }
   ],
   "source": [
    "print(enc_input_data_test.shape)\n",
    "print(dec_input_data_test.shape)"
   ]
  },
  {
   "cell_type": "code",
   "execution_count": 33,
   "id": "f7e8f950",
   "metadata": {},
   "outputs": [],
   "source": [
    "enc_input_data_val,dec_input_data_val,dec_output_data_val=process_data(df_validation)"
   ]
  },
  {
   "cell_type": "code",
   "execution_count": 34,
   "id": "ddd75195",
   "metadata": {},
   "outputs": [
    {
     "name": "stdout",
     "output_type": "stream",
     "text": [
      "torch.Size([4096, 26])\n",
      "torch.Size([4096, 22])\n"
     ]
    }
   ],
   "source": [
    "print(enc_input_data_val.shape)\n",
    "print(dec_input_data_val.shape)"
   ]
  },
  {
   "cell_type": "code",
   "execution_count": 35,
   "id": "c50840ca",
   "metadata": {},
   "outputs": [],
   "source": [
    "encoder_input_data_test,decoder_input_data_test,decoder_output_data_test=one_hot_encoding(df_test)"
   ]
  },
  {
   "cell_type": "code",
   "execution_count": 36,
   "id": "13049fe5",
   "metadata": {},
   "outputs": [
    {
     "name": "stdout",
     "output_type": "stream",
     "text": [
      "torch.Size([4095, 26, 30])\n",
      "torch.Size([4095, 22, 68])\n",
      "torch.Size([4095, 22, 68])\n"
     ]
    }
   ],
   "source": [
    "print(encoder_input_data_test.shape)\n",
    "print(decoder_input_data_test.shape)\n",
    "print(decoder_output_data_test.shape)"
   ]
  },
  {
   "cell_type": "code",
   "execution_count": 37,
   "id": "5d064dcf",
   "metadata": {},
   "outputs": [],
   "source": [
    "encoder_input_data_val,decoder_input_data_val,decoder_output_data_val=one_hot_encoding(df_validation)"
   ]
  },
  {
   "cell_type": "code",
   "execution_count": 38,
   "id": "c8130566",
   "metadata": {},
   "outputs": [
    {
     "name": "stdout",
     "output_type": "stream",
     "text": [
      "torch.Size([4096, 26, 30])\n",
      "torch.Size([4096, 22, 68])\n",
      "torch.Size([4096, 22, 68])\n"
     ]
    }
   ],
   "source": [
    "print(encoder_input_data_val.shape)\n",
    "print(decoder_input_data_val.shape)\n",
    "print(decoder_output_data_val.shape)"
   ]
  },
  {
   "cell_type": "code",
   "execution_count": 39,
   "id": "31b80fc3",
   "metadata": {},
   "outputs": [
    {
     "name": "stdout",
     "output_type": "stream",
     "text": [
      "tensor([[ 1, 49, 51,  ...,  0,  0,  0],\n",
      "        [ 1, 41, 56,  ...,  0,  0,  0],\n",
      "        [ 1, 19, 56,  ...,  0,  0,  0],\n",
      "        ...,\n",
      "        [ 1,  7, 51,  ...,  0,  0,  0],\n",
      "        [ 1, 51, 58,  ...,  0,  0,  0],\n",
      "        [ 1,  7,  5,  ...,  0,  0,  0]])\n"
     ]
    }
   ],
   "source": [
    "print(torch.argmax(decoder_input_data,dim=-1))"
   ]
  },
  {
   "cell_type": "code",
   "execution_count": 40,
   "id": "8987d0db",
   "metadata": {},
   "outputs": [
    {
     "name": "stdout",
     "output_type": "stream",
     "text": [
      "tensor([[ 1., 49., 51.,  ...,  0.,  0.,  0.],\n",
      "        [ 1., 41., 56.,  ...,  0.,  0.,  0.],\n",
      "        [ 1., 19., 56.,  ...,  0.,  0.,  0.],\n",
      "        ...,\n",
      "        [ 1.,  7., 51.,  ...,  0.,  0.,  0.],\n",
      "        [ 1., 51., 58.,  ...,  0.,  0.,  0.],\n",
      "        [ 1.,  7.,  5.,  ...,  0.,  0.,  0.]])\n"
     ]
    }
   ],
   "source": [
    "print(dec_input_data)"
   ]
  },
  {
   "cell_type": "code",
   "execution_count": 41,
   "id": "09800fca",
   "metadata": {},
   "outputs": [
    {
     "name": "stdout",
     "output_type": "stream",
     "text": [
      "tensor([[49, 51, 67,  ...,  0,  0,  0],\n",
      "        [41, 56, 38,  ...,  0,  0,  0],\n",
      "        [19, 56, 45,  ...,  0,  0,  0],\n",
      "        ...,\n",
      "        [ 7, 51, 52,  ...,  0,  0,  0],\n",
      "        [51, 58, 46,  ...,  0,  0,  0],\n",
      "        [ 7,  5, 24,  ...,  0,  0,  0]])\n"
     ]
    }
   ],
   "source": [
    "print(torch.argmax(decoder_output_data,dim=-1))"
   ]
  },
  {
   "cell_type": "code",
   "execution_count": 42,
   "id": "4e12e52d",
   "metadata": {},
   "outputs": [
    {
     "name": "stdout",
     "output_type": "stream",
     "text": [
      "tensor([[49., 51., 67.,  ...,  0.,  0.,  0.],\n",
      "        [41., 56., 38.,  ...,  0.,  0.,  0.],\n",
      "        [19., 56., 45.,  ...,  0.,  0.,  0.],\n",
      "        ...,\n",
      "        [ 7., 51., 52.,  ...,  0.,  0.,  0.],\n",
      "        [51., 58., 46.,  ...,  0.,  0.,  0.],\n",
      "        [ 7.,  5., 24.,  ...,  0.,  0.,  0.]])\n"
     ]
    }
   ],
   "source": [
    "print(dec_output_data)"
   ]
  },
  {
   "cell_type": "code",
   "execution_count": 43,
   "id": "549cb4aa",
   "metadata": {},
   "outputs": [],
   "source": [
    "df_train['transliteration_in_hindi']='\\t'+df_train['transliteration_in_hindi']+'\\n'\n",
    "df_train['English']='\\t'+df_train['English']+'\\n'"
   ]
  },
  {
   "cell_type": "code",
   "execution_count": 44,
   "id": "30e0f742",
   "metadata": {},
   "outputs": [],
   "source": [
    "df_train['English_seq'] = df_train['English'].apply(lambda x: [char2int_eng[char] for char in x])\n",
    "df_train['transliteration_seq'] = df_train['transliteration_in_hindi'].apply(lambda x: [char2int_hin[char] for char in x])\n"
   ]
  },
  {
   "cell_type": "code",
   "execution_count": 45,
   "id": "e861d24b",
   "metadata": {},
   "outputs": [
    {
     "data": {
      "text/html": [
       "<div>\n",
       "<style scoped>\n",
       "    .dataframe tbody tr th:only-of-type {\n",
       "        vertical-align: middle;\n",
       "    }\n",
       "\n",
       "    .dataframe tbody tr th {\n",
       "        vertical-align: top;\n",
       "    }\n",
       "\n",
       "    .dataframe thead th {\n",
       "        text-align: right;\n",
       "    }\n",
       "</style>\n",
       "<table border=\"1\" class=\"dataframe\">\n",
       "  <thead>\n",
       "    <tr style=\"text-align: right;\">\n",
       "      <th></th>\n",
       "      <th>English</th>\n",
       "      <th>transliteration_in_hindi</th>\n",
       "      <th>English_seq</th>\n",
       "      <th>transliteration_seq</th>\n",
       "    </tr>\n",
       "  </thead>\n",
       "  <tbody>\n",
       "    <tr>\n",
       "      <th>0</th>\n",
       "      <td>\\tshastragaar\\n</td>\n",
       "      <td>\\tशस्त्रागार\\n</td>\n",
       "      <td>[1, 22, 11, 4, 22, 23, 21, 4, 10, 4, 4, 21, 2]</td>\n",
       "      <td>[1, 49, 51, 67, 34, 67, 45, 55, 21, 55, 45, 2]</td>\n",
       "    </tr>\n",
       "    <tr>\n",
       "      <th>1</th>\n",
       "      <td>\\tbindhya\\n</td>\n",
       "      <td>\\tबिन्द्या\\n</td>\n",
       "      <td>[1, 5, 12, 17, 7, 11, 28, 4, 2]</td>\n",
       "      <td>[1, 41, 56, 38, 67, 36, 67, 44, 55, 2]</td>\n",
       "    </tr>\n",
       "    <tr>\n",
       "      <th>2</th>\n",
       "      <td>\\tkirankant\\n</td>\n",
       "      <td>\\tकिरणकांत\\n</td>\n",
       "      <td>[1, 14, 12, 21, 4, 17, 14, 4, 17, 23, 2]</td>\n",
       "      <td>[1, 19, 56, 45, 33, 19, 55, 5, 34, 2]</td>\n",
       "    </tr>\n",
       "    <tr>\n",
       "      <th>3</th>\n",
       "      <td>\\tyagyopaveet\\n</td>\n",
       "      <td>\\tयज्ञोपवीत\\n</td>\n",
       "      <td>[1, 28, 4, 10, 28, 18, 19, 4, 25, 8, 8, 23, 2]</td>\n",
       "      <td>[1, 44, 26, 67, 28, 65, 39, 48, 57, 34, 2]</td>\n",
       "    </tr>\n",
       "    <tr>\n",
       "      <th>4</th>\n",
       "      <td>\\tratania\\n</td>\n",
       "      <td>\\tरटानिया\\n</td>\n",
       "      <td>[1, 21, 4, 23, 4, 17, 12, 4, 2]</td>\n",
       "      <td>[1, 45, 29, 55, 38, 56, 44, 55, 2]</td>\n",
       "    </tr>\n",
       "    <tr>\n",
       "      <th>...</th>\n",
       "      <td>...</td>\n",
       "      <td>...</td>\n",
       "      <td>...</td>\n",
       "      <td>...</td>\n",
       "    </tr>\n",
       "    <tr>\n",
       "      <th>51195</th>\n",
       "      <td>\\ttoned\\n</td>\n",
       "      <td>\\tटोंड\\n</td>\n",
       "      <td>[1, 23, 18, 17, 8, 7, 2]</td>\n",
       "      <td>[1, 29, 65, 5, 31, 2]</td>\n",
       "    </tr>\n",
       "    <tr>\n",
       "      <th>51196</th>\n",
       "      <td>\\tmutanaazaa\\n</td>\n",
       "      <td>\\tमुतनाज़ा\\n</td>\n",
       "      <td>[1, 16, 24, 23, 4, 17, 4, 4, 29, 4, 4, 2]</td>\n",
       "      <td>[1, 43, 58, 34, 38, 55, 26, 53, 55, 2]</td>\n",
       "    </tr>\n",
       "    <tr>\n",
       "      <th>51197</th>\n",
       "      <td>\\tasahmaton\\n</td>\n",
       "      <td>\\tअसहमतों\\n</td>\n",
       "      <td>[1, 4, 22, 4, 11, 16, 4, 23, 18, 17, 2]</td>\n",
       "      <td>[1, 7, 51, 52, 43, 34, 65, 5, 2]</td>\n",
       "    </tr>\n",
       "    <tr>\n",
       "      <th>51198</th>\n",
       "      <td>\\tsulgaayin\\n</td>\n",
       "      <td>\\tसुलगायीं\\n</td>\n",
       "      <td>[1, 22, 24, 15, 10, 4, 4, 28, 12, 17, 2]</td>\n",
       "      <td>[1, 51, 58, 46, 21, 55, 44, 57, 5, 2]</td>\n",
       "    </tr>\n",
       "    <tr>\n",
       "      <th>51199</th>\n",
       "      <td>\\tanchuthengu\\n</td>\n",
       "      <td>\\tअंचुतेंगु\\n</td>\n",
       "      <td>[1, 4, 17, 6, 11, 24, 23, 11, 8, 17, 10, 24, 2]</td>\n",
       "      <td>[1, 7, 5, 24, 58, 34, 62, 5, 21, 58, 2]</td>\n",
       "    </tr>\n",
       "  </tbody>\n",
       "</table>\n",
       "<p>51200 rows × 4 columns</p>\n",
       "</div>"
      ],
      "text/plain": [
       "               English transliteration_in_hindi  \\\n",
       "0      \\tshastragaar\\n           \\tशस्त्रागार\\n   \n",
       "1          \\tbindhya\\n             \\tबिन्द्या\\n   \n",
       "2        \\tkirankant\\n             \\tकिरणकांत\\n   \n",
       "3      \\tyagyopaveet\\n            \\tयज्ञोपवीत\\n   \n",
       "4          \\tratania\\n              \\tरटानिया\\n   \n",
       "...                ...                      ...   \n",
       "51195        \\ttoned\\n                 \\tटोंड\\n   \n",
       "51196   \\tmutanaazaa\\n             \\tमुतनाज़ा\\n   \n",
       "51197    \\tasahmaton\\n              \\tअसहमतों\\n   \n",
       "51198    \\tsulgaayin\\n             \\tसुलगायीं\\n   \n",
       "51199  \\tanchuthengu\\n            \\tअंचुतेंगु\\n   \n",
       "\n",
       "                                           English_seq  \\\n",
       "0       [1, 22, 11, 4, 22, 23, 21, 4, 10, 4, 4, 21, 2]   \n",
       "1                      [1, 5, 12, 17, 7, 11, 28, 4, 2]   \n",
       "2             [1, 14, 12, 21, 4, 17, 14, 4, 17, 23, 2]   \n",
       "3       [1, 28, 4, 10, 28, 18, 19, 4, 25, 8, 8, 23, 2]   \n",
       "4                      [1, 21, 4, 23, 4, 17, 12, 4, 2]   \n",
       "...                                                ...   \n",
       "51195                         [1, 23, 18, 17, 8, 7, 2]   \n",
       "51196        [1, 16, 24, 23, 4, 17, 4, 4, 29, 4, 4, 2]   \n",
       "51197          [1, 4, 22, 4, 11, 16, 4, 23, 18, 17, 2]   \n",
       "51198         [1, 22, 24, 15, 10, 4, 4, 28, 12, 17, 2]   \n",
       "51199  [1, 4, 17, 6, 11, 24, 23, 11, 8, 17, 10, 24, 2]   \n",
       "\n",
       "                                  transliteration_seq  \n",
       "0      [1, 49, 51, 67, 34, 67, 45, 55, 21, 55, 45, 2]  \n",
       "1              [1, 41, 56, 38, 67, 36, 67, 44, 55, 2]  \n",
       "2               [1, 19, 56, 45, 33, 19, 55, 5, 34, 2]  \n",
       "3          [1, 44, 26, 67, 28, 65, 39, 48, 57, 34, 2]  \n",
       "4                  [1, 45, 29, 55, 38, 56, 44, 55, 2]  \n",
       "...                                               ...  \n",
       "51195                           [1, 29, 65, 5, 31, 2]  \n",
       "51196          [1, 43, 58, 34, 38, 55, 26, 53, 55, 2]  \n",
       "51197                [1, 7, 51, 52, 43, 34, 65, 5, 2]  \n",
       "51198           [1, 51, 58, 46, 21, 55, 44, 57, 5, 2]  \n",
       "51199         [1, 7, 5, 24, 58, 34, 62, 5, 21, 58, 2]  \n",
       "\n",
       "[51200 rows x 4 columns]"
      ]
     },
     "execution_count": 45,
     "metadata": {},
     "output_type": "execute_result"
    }
   ],
   "source": [
    "df_train"
   ]
  },
  {
   "cell_type": "code",
   "execution_count": 46,
   "id": "22627fa7",
   "metadata": {},
   "outputs": [],
   "source": [
    "enc_input_data=enc_input_data.long()\n",
    "dec_input_data=dec_input_data.long()\n",
    "enc_input_data_test=enc_input_data_test.long()\n",
    "dec_input_data_test=dec_input_data_test.long()\n",
    "enc_input_data_val=enc_input_data_val.long()\n",
    "dec_input_data_val=dec_input_data_val.long()\n",
    "encoder_input_data=encoder_input_data.long()\n",
    "decoder_input_data=decoder_input_data.long()\n",
    "decoder_output_data=decoder_output_data.long()"
   ]
  },
  {
   "cell_type": "code",
   "execution_count": 47,
   "id": "0235c545",
   "metadata": {},
   "outputs": [],
   "source": [
    "# def calculate_word_accuracy(dec_predicted_data, dec_output_data):\n",
    "#     #Here, we have to pass the arguments in the shape(batch_size,sequence_length)\n",
    "#     batch_size = dec_predicted_data.shape[0]\n",
    "#     dec_predicted_data=torch.argmax(dec_predicted_data,dim=-1)\n",
    "#     dec_output_data=torch.argmax(dec_output_data,dim=-1)\n",
    "#     with torch.no_grad():\n",
    "#         true_words = 0\n",
    "#         for i in range(batch_size):\n",
    "#             mark = True\n",
    "#             for j in range(dec_predicted_data.shape[1]):\n",
    "#                 if dec_predicted_data[i, j] == dec_output_data[i, j]:\n",
    "#                     mark = True\n",
    "#                 else:\n",
    "#                     mark = False\n",
    "#                     break\n",
    "#             if mark == True:\n",
    "#                 true_words =true_words+ 1\n",
    "#     return (true_words / batch_size)*100\n"
   ]
  },
  {
   "cell_type": "code",
   "execution_count": 48,
   "id": "3d756511",
   "metadata": {},
   "outputs": [],
   "source": [
    "def calculate_word_accuracy(dec_predicted_data, dec_output_data):\n",
    "    # Here, we have to pass the arguments in the shape (batch_size, sequence_length)\n",
    "    dec_predicted_data = torch.argmax(dec_predicted_data, dim=-1)\n",
    "    dec_output_data = torch.argmax(dec_output_data, dim=-1)\n",
    "    \n",
    "    with torch.no_grad():\n",
    "        match = (dec_predicted_data == dec_output_data).all(dim=1)\n",
    "        true_words = match.sum().item()\n",
    "        batch_size = dec_predicted_data.shape[0]\n",
    "    \n",
    "    accuracy = (true_words / batch_size) * 100\n",
    "    return accuracy\n"
   ]
  },
  {
   "cell_type": "code",
   "execution_count": 49,
   "id": "4e1a52a4",
   "metadata": {},
   "outputs": [],
   "source": [
    "word_acc=calculate_word_accuracy(decoder_input_data,decoder_output_data)"
   ]
  },
  {
   "cell_type": "code",
   "execution_count": 50,
   "id": "cd3abf34",
   "metadata": {},
   "outputs": [
    {
     "name": "stdout",
     "output_type": "stream",
     "text": [
      "0.0\n"
     ]
    }
   ],
   "source": [
    "print(word_acc)"
   ]
  },
  {
   "cell_type": "code",
   "execution_count": 51,
   "id": "1428344f",
   "metadata": {},
   "outputs": [],
   "source": [
    "def calculate_char_accuracy(decoder_predicted_data, decoder_output_data):\n",
    "    #Here, we have to pass the arguments in the shape(batch_size,sequence_length,unique_tokens)\n",
    "    batch_size, seq_length,unique_tokens = decoder_predicted_data.shape\n",
    "    dec_predicted_data=torch.argmax(decoder_predicted_data,dim=-1)\n",
    "    dec_output_data=torch.argmax(decoder_output_data,dim=-1)\n",
    "    \n",
    "    with torch.no_grad():\n",
    "        correct_count = (dec_predicted_data == dec_output_data).sum().item()\n",
    "        return (correct_count / (seq_length * batch_size))*100\n"
   ]
  },
  {
   "cell_type": "code",
   "execution_count": 52,
   "id": "01bdebd2",
   "metadata": {},
   "outputs": [],
   "source": [
    "char_accuracy = calculate_char_accuracy(decoder_input_data[7:9,:,:],decoder_input_data[1:3,:,:])"
   ]
  },
  {
   "cell_type": "code",
   "execution_count": 53,
   "id": "9a66732a",
   "metadata": {},
   "outputs": [
    {
     "name": "stdout",
     "output_type": "stream",
     "text": [
      "61.36363636363637\n"
     ]
    }
   ],
   "source": [
    "print(char_accuracy)"
   ]
  },
  {
   "cell_type": "code",
   "execution_count": 54,
   "id": "1ea2b663",
   "metadata": {},
   "outputs": [],
   "source": [
    "unique_tokens_eng=len(english_vocab)\n",
    "unique_tokens_hin=len(hindi_vocab)"
   ]
  },
  {
   "cell_type": "code",
   "execution_count": 55,
   "id": "b1287bb3",
   "metadata": {},
   "outputs": [],
   "source": [
    "def data_loader(x,y,z,batch_size,device=device):\n",
    "    \n",
    "    x=x.to(device)\n",
    "    y=y.to(device)\n",
    "    z=z.to(device)\n",
    "    combined=TensorDataset(x,y,z)\n",
    "    loader=DataLoader(combined,batch_size=batch_size,shuffle=False,drop_last=True)#required in test data\n",
    "    return loader"
   ]
  },
  {
   "cell_type": "code",
   "execution_count": 56,
   "id": "661d9039",
   "metadata": {},
   "outputs": [],
   "source": [
    "import time\n",
    "import math\n",
    "\n",
    "\n",
    "def asMinutes(s):\n",
    "    m = math.floor(s / 60)\n",
    "    s -= m * 60\n",
    "    return '%dm %ds' % (m, s)\n",
    "\n",
    "\n",
    "def timeSince(since, percent):\n",
    "    now = time.time()\n",
    "    s = now - since\n",
    "    es = s / (percent)\n",
    "    rs = es - s\n",
    "    return '%s (- %s)' % (asMinutes(s), asMinutes(rs))"
   ]
  },
  {
   "cell_type": "code",
   "execution_count": 57,
   "id": "07817af2",
   "metadata": {},
   "outputs": [],
   "source": [
    "class Encoder(nn.Module):\n",
    "    def __init__(self, embed_dim, hidden_dim, layer_dim, drop_out, bi_dir, cell,unique_tokens_eng):\n",
    "        '''unique_token_hin is the third dimension in one hot encoding or no of tokens in eng or input size'''\n",
    "        super(Encoder, self).__init__()\n",
    "        self.hidden_dim = hidden_dim\n",
    "        self.layer_dim = layer_dim\n",
    "        self.cell = cell\n",
    "        self.bi_dir = bi_dir\n",
    "        self.unique_tokens_eng=unique_tokens_eng\n",
    "        self.embed_dim=embed_dim\n",
    "        self.drop_out=drop_out\n",
    "        '''The input to the encoder will be of shape (batch_size,sequence_length) and the output size will be\n",
    "        (batch_size,seq_length,embed_size)'''\n",
    "        self.dropout=nn.Dropout(p=self.drop_out)\n",
    "\n",
    "        self.embedding = nn.Embedding(unique_tokens_eng, embed_dim, padding_idx=0) \n",
    "        \n",
    "        self.rnn=nn.RNN(embed_dim,hidden_dim,dropout=self.drop_out,\n",
    "                        num_layers=layer_dim,bidirectional=bi_dir,batch_first=True)\n",
    "        self.gru=nn.GRU(embed_dim,hidden_dim,dropout=self.drop_out,\n",
    "                        num_layers=layer_dim,bidirectional=bi_dir,batch_first=True)\n",
    "        self.lstm=nn.LSTM(embed_dim,hidden_dim,dropout=self.drop_out,\n",
    "                         num_layers=layer_dim,bidirectional=bi_dir,batch_first=True)\n",
    "\n",
    "    def forward(self, x,hidden):\n",
    "        '''Here, x is the encoder input data'''\n",
    "        batch_size=x.size(0)\n",
    "        x=x.to(device)\n",
    "        embedding_input = self.embedding(x.long())\n",
    "        embedding_input = self.dropout(embedding_input)\n",
    "        #print(embedding_input.shape)\n",
    "#         if self.cell == \"LSTM\":\n",
    "#             h_0 =torch.randn((1 + int(self.bi_dir)) * self.layer_dim, batch_size, self.hidden_dim, device=device)\n",
    "#             c_0=torch.randn((1 + int(self.bi_dir)) * self.layer_dim, batch_size, self.hidden_dim, device=device)  \n",
    "#         else:\n",
    "#             h_0=torch.randn((1 + int(self.bi_dir)) * self.layer_dim, batch_size, self.hidden_dim, device=device)\n",
    "              \n",
    "        if self.cell==\"GRU\":\n",
    "            output,h_n=self.gru(embedding_input,hidden)#h_0.detach())\n",
    "            #print(output.shape)\n",
    "            #print(h_n.shape)\n",
    "            return output,h_n\n",
    "        elif self.cell=='RNN':\n",
    "            output,h_n=self.gru(embedding_input,hidden)#.detach())\n",
    "            #print(output.shape)\n",
    "            #print(h_n.shape)\n",
    "            return output,h_n\n",
    "        elif self.cell=='LSTM':\n",
    "            output,(h_n,c_n)=self.lstm(embedding_input,hidden)\n",
    "            #(h_0.detach(),c_0.detach()))\n",
    "            #print(output.shape)\n",
    "            #print(h_n.shape)\n",
    "            #print(c_n.shape)\n",
    "            return output,(h_n,c_n)\n",
    "            \n",
    "    def encoder_initial(self,batch_size,device=device):\n",
    "        if self.cell == \"LSTM\":\n",
    "            h_0 =torch.randn((1 + int(self.bi_dir)) * self.layer_dim, batch_size, self.hidden_dim, device=device)\n",
    "            c_0 =torch.randn((1 + int(self.bi_dir)) * self.layer_dim, batch_size, self.hidden_dim, device=device) \n",
    "            return (h_0,c_0)\n",
    "        #H_0,C_0 HAVE SAME DIMENSION\n",
    "        else:\n",
    "            h_0=torch.randn((1 + int(self.bi_dir)) * self.layer_dim, batch_size, self.hidden_dim, device=device)\n",
    "            return h_0"
   ]
  },
  {
   "cell_type": "code",
   "execution_count": 58,
   "id": "1f55ee15",
   "metadata": {},
   "outputs": [],
   "source": [
    "# class Decoder_attention(nn.Module):\n",
    "#     def __init__(self, embed_dim, hidden_dim, layer_dim, drop_out, bi_dir, cell,\n",
    "#                  unique_tokens_hin, input_length,target_length):\n",
    "#         '''unique_token_hin is the third dimension in one hot encoding or no of tokens in hindi or output size'''\n",
    "#         #input_length is the sequence length of encoder input(english)\n",
    "#         super(Decoder_attention, self).__init__()\n",
    "#         self.hidden_dim = hidden_dim\n",
    "#         self.layer_dim = layer_dim\n",
    "#         self.cell = cell\n",
    "#         self.bi_dir = bi_dir\n",
    "#         self.unique_tokens_hin = unique_tokens_hin\n",
    "#         self.embed_dim = embed_dim\n",
    "#         self.drop_out = drop_out\n",
    "#         self.input_length = input_length\n",
    "#         self.target_length=target_length\n",
    "        \n",
    "#         self.embedding = nn.Embedding(unique_tokens_hin, embed_dim, padding_idx=0)\n",
    "#         self.dropout = nn.Dropout(p=self.drop_out)\n",
    "#         self.UattnSt_1 = nn.Linear(hidden_dim*(int(self.bi_dir)+1),hidden_dim*(int(self.bi_dir)+1)) #St-1 is of shape (num_layers(1+D),batch_size,hidden_dim),which should be \n",
    "#         #converted into (batch_size,1,hidden_dim). So ,either reshape it accordingly or take it from decoder rnn\n",
    "#         #output; not after softmax.output after this:(batch_size,1,hidden_dim)\n",
    "#         self.Wattnh_j = nn.Linear(hidden_dim*(int(self.bi_dir)+1),hidden_dim*(int(self.bi_dir)+1))#h_j contains all the encoder hidden states,taken from encoder outputs, which is \n",
    "#         #of shape(batch_size,input_tokens,hidden_dim).output(batch_size,input_tokens,hidden_dim)\n",
    "#         self.tanh = nn.Tanh()\n",
    "#         self.e_jt = nn.Linear(hidden_dim*(int(self.bi_dir)+1),1)#Vattn.T process is performed.Output gives attention score of shape\n",
    "#         #(batch_size,input_tokens,1).\n",
    "#         self.alpha_jt=nn.Softmax(dim=-1)\n",
    "#         self.rnn = nn.RNN(self.embed_dim + hidden_dim*(int(self.bi_dir)+1) , hidden_dim,\n",
    "#                     num_layers=self.layer_dim, batch_first=True, bidirectional=self.bi_dir, dropout=self.drop_out)\n",
    "#         self.gru = nn.GRU(self.embed_dim + hidden_dim*(int(self.bi_dir)+1) , hidden_dim,\n",
    "#                     num_layers=self.layer_dim, batch_first=True, bidirectional=self.bi_dir, dropout=self.drop_out)\n",
    "#         self.lstm = nn.LSTM(self.embed_dim + hidden_dim*(int(self.bi_dir)+1), hidden_dim,\n",
    "#                     num_layers=self.layer_dim, batch_first=True, bidirectional=self.bi_dir, dropout=self.drop_out)\n",
    "#         self.relu = nn.ReLU()\n",
    "#         self.out_put = nn.Linear((1 + int(self.bi_dir)) * self.hidden_dim, self.unique_tokens_hin)\n",
    "#         self.softmax = nn.LogSoftmax(dim=-1)\n",
    "\n",
    "\n",
    "\n",
    "#     def forward(self, x, hidden, encoder_outputs):\n",
    "#         batch_size = x.size(0)\n",
    "#         x=x.to(device)\n",
    "#         embedding_output = self.embedding(x.long())\n",
    "#         embedding_output=embedding_output.to(device)\n",
    "#         embedding_output = self.dropout(embedding_output)\n",
    "#         #print('hidden[0]',hidden[0].shape)\n",
    "#         if self.bi_dir == False:\n",
    "#             if self.cell == 'LSTM':\n",
    "#                 st_1=torch.mean(hidden[0],dim=0,keepdim=True).squeeze(dim=0).unsqueeze(dim=1)\n",
    "#                 #print('st1 initial',st_1.shape)\n",
    "#             else:\n",
    "#                 st_1=torch.mean(hidden,dim=0,keepdim=True).squeeze(dim=0).unsqueeze(dim=1)\n",
    "                \n",
    "#         elif self.bi_dir == True: # encoorporates for multiple layers and bidirection\n",
    "#             if self.cell == 'LSTM':\n",
    "#                 h=hidden[0]\n",
    "#                 h_forward = h[:self.layer_dim]\n",
    "#                 h_backward=h[self.layer_dim:]\n",
    "#                 h=torch.cat((h_forward,h_backward),dim=-1)\n",
    "#                 h=torch.mean(h,dim=0,keepdim=True)\n",
    "#                 st_1=h.squeeze(dim=0).unsqueeze(dim=1)\n",
    "#             else:\n",
    "#                 h=hidden\n",
    "#                 h_forward = h[:self.layer_dim]\n",
    "#                 h_backward=h[self.layer_dim:]\n",
    "#                 #print(h_forward.shape)\n",
    "#                 #print(h_backward.shape)\n",
    "#                 h=torch.cat((h_forward,h_backward),dim=-1)\n",
    "#                 h=torch.mean(h,dim=0,keepdim=True)\n",
    "#                 st_1=h.squeeze(dim=0).unsqueeze(dim=1)\n",
    "                \n",
    "        \n",
    "#         #print('st1 final',st_1.shape)\n",
    "#         a = self.UattnSt_1(st_1) \n",
    "#         b = self.Wattnh_j(encoder_outputs)\n",
    "#         #print('a',a.shape)\n",
    "#         #print('b',b.shape)\n",
    "#         att=a+b\n",
    "#         att=self.tanh(att)\n",
    "#         attention_score = self.e_jt(att)\n",
    "#         attention_weights=self.alpha_jt(attention_score)#each column consists of one words' att. weights\n",
    "#         attention_weights = attention_weights.squeeze(dim=-1)\n",
    "#         attention_weights = attention_weights.unsqueeze(dim=1)#Now,each row consists of one words' att. weights\n",
    "#         context = torch.bmm(attention_weights,encoder_outputs)\n",
    "#         #print('context',context.shape)\n",
    "#         #print('emb',embedding_output.shape)\n",
    "#         concatenated_output = torch.cat((embedding_output, context), dim=2)\n",
    "#         #(batch_size,1,embed_dim+hidden_dim)\n",
    "#         #concatenated_output =self.relu(concatenated_output)\n",
    "#         #print('ip',concatenated_output.shape)\n",
    "\n",
    "#         if self.cell==\"GRU\":\n",
    "#             output,h_n=self.gru(concatenated_output,hidden)#.detach())\n",
    "#             output = self.softmax(self.out_put(output))\n",
    "#             return output,h_n,attention_weights\n",
    "#             #print(output.shape)\n",
    "#             #print(h_n.shape)\n",
    "#         elif self.cell=='RNN':\n",
    "#             output,h_n=self.gru(concatenated_output,hidden)#.detach())\n",
    "#             return output,h_n,attention_weights\n",
    "#             #print(output.shape)\n",
    "#             #print(h_n.shape)\n",
    "#         elif self.cell=='LSTM':\n",
    "#             output,(h_n,c_n)=self.lstm(concatenated_output,hidden)\n",
    "#             output = self.softmax(self.out_put(output))\n",
    "#             return output,(h_n,c_n),attention_weights\n",
    "#             #(h_0.detach(),c_0.detach()))\n",
    "#             #print(output.shape)\n",
    "#             #print(h_n.shape)\n",
    "#             #print(c_n.shape)\n",
    "#         #print(output.shape)\n",
    "        \n",
    "#         #print(output.shape)\n",
    "#         #print('hi')\n",
    "            \n",
    "\n",
    "#     def decoder_attn_initial(self, batch_size, device=device):\n",
    "#         if self.cell == \"LSTM\":\n",
    "#             h_0 = torch.randn((1 + int(self.bi_dir)) * self.layer_dim, batch_size, self.hidden_dim,device=device)\n",
    "#             c_0 = torch.randn((1 + int(self.bi_dir)) * self.layer_dim, batch_size, self.hidden_dim,device=device)\n",
    "#             return (h_0,c_0)\n",
    "#         else:\n",
    "#             h_0 = torch.randn((1 + int(self.bi_dir)) * self.layer_dim, batch_size, self.hidden_dim,device=device)\n",
    "#             return h_0\n",
    "\n"
   ]
  },
  {
   "cell_type": "code",
   "execution_count": 59,
   "id": "edc43859",
   "metadata": {},
   "outputs": [],
   "source": [
    "# class Decoder_attention(nn.Module):\n",
    "#     def __init__(self, embed_dim, hidden_dim, layer_dim, drop_out, bi_dir, cell,\n",
    "#                  unique_tokens_hin, input_length,target_length):\n",
    "#         '''unique_token_hin is the third dimension in one hot encoding or no of tokens in hindi or output size'''\n",
    "#         #input_length is the sequence length of encoder input(english)\n",
    "#         super(Decoder_attention, self).__init__()\n",
    "#         self.hidden_dim = hidden_dim\n",
    "#         self.layer_dim = layer_dim\n",
    "#         self.cell = cell\n",
    "#         self.bi_dir = bi_dir\n",
    "#         self.unique_tokens_hin = unique_tokens_hin\n",
    "#         self.embed_dim = embed_dim\n",
    "#         self.drop_out = drop_out\n",
    "#         self.input_length = input_length\n",
    "#         self.target_length=target_length\n",
    "        \n",
    "#         self.embedding = nn.Embedding(unique_tokens_hin, embed_dim)\n",
    "#         self.dropout = nn.Dropout(p=self.drop_out)\n",
    "#         self.UattnSt_1 = nn.Linear(hidden_dim,hidden_dim) \n",
    "#         self.Wattnh_j = nn.Linear(hidden_dim,hidden_dim)\n",
    "#         self.tanh = nn.Tanh()\n",
    "#         self.e_jt = nn.Linear(hidden_dim,1)\n",
    "#         self.alpha_jt=nn.Softmax(dim=-1)\n",
    "#         self.rnn = nn.RNN(self.embed_dim + hidden_dim*layer_dim*(1+int(bi_dir)) , hidden_dim,\n",
    "#                     num_layers=self.layer_dim, batch_first=True, bidirectional=self.bi_dir, dropout=self.drop_out)\n",
    "#         self.gru = nn.GRU(self.embed_dim + hidden_dim*layer_dim*(1+int(bi_dir)) , hidden_dim,\n",
    "#                     num_layers=self.layer_dim, batch_first=True, bidirectional=self.bi_dir, dropout=self.drop_out)\n",
    "#         self.lstm = nn.LSTM(self.embed_dim + hidden_dim*layer_dim*(1+int(bi_dir)), hidden_dim,\n",
    "#                     num_layers=self.layer_dim, batch_first=True, bidirectional=self.bi_dir, dropout=self.drop_out)\n",
    "#         self.relu = nn.ReLU()\n",
    "#         self.out_put = nn.Linear((1 + int(self.bi_dir)) * self.hidden_dim, self.unique_tokens_hin)\n",
    "#         self.softmax = nn.LogSoftmax(dim=-1)\n",
    "\n",
    "\n",
    "\n",
    "#     def forward(self, x, hidden, encoder_outputs):\n",
    "#         batch_size = x.size(0)\n",
    "#         x=x.to(device)\n",
    "#         embedding_output = self.embedding(x.long())\n",
    "#         embedding_output=embedding_output.to(device)\n",
    "#         embedding_output = self.dropout(embedding_output)\n",
    "       \n",
    "#         if self.cell =='LSTM':\n",
    "#             st_1 = hidden[0].unsqueeze(dim=2)\n",
    "#         else:\n",
    "#             st_1 = hidden.unsqueeze(dim=2)\n",
    "            \n",
    "#         a = self.UattnSt_1(st_1) \n",
    "#         b = self.Wattnh_j(encoder_outputs)\n",
    "\n",
    "#         att=a+b\n",
    "#         att=self.tanh(att)\n",
    "#         attention_score = self.e_jt(att)\n",
    "#         attention_weights=self.alpha_jt(attention_score)\n",
    "#         attention_weights = attention_weights.squeeze(dim=-1)\n",
    "#         attention_weights = attention_weights.unsqueeze(dim=2)\n",
    "#         context = torch.zeros(self.layer_dim*(1+int(self.bi_dir)),batch_size,1,self.hidden_dim)\n",
    "#         for i in range(context.shape[0]):\n",
    "    \n",
    "            \n",
    "#             context[i,:,:,:] = torch.bmm(attention_weights[i].squeeze(0),encoder_outputs[i].squeeze(0))\n",
    "    \n",
    "\n",
    "#         context = context.reshape(batch_size,self.hidden_dim*(1+int(self.bi_dir))*self.layer_dim)\n",
    "#         context=context.unsqueeze(1)\n",
    "    \n",
    "#         context=context.to(device)\n",
    "#         #print(context.shape)\n",
    "#         concatenated_output = torch.cat((embedding_output, context), dim=2)\n",
    "#         #(batch_size,1,embed_dim+hidden_dim)\n",
    "#         concatenated_output =self.relu(concatenated_output)\n",
    "\n",
    "\n",
    "#         if self.cell==\"GRU\":\n",
    "#             output,h_n=self.gru(concatenated_output,hidden)#.detach())\n",
    "#             output = self.softmax(self.out_put(output))\n",
    "#             return output,h_n,attention_weights\n",
    "           \n",
    "#         elif self.cell=='RNN':\n",
    "#             output,h_n=self.gru(concatenated_output,hidden)#.detach())\n",
    "#             return output,h_n,attention_weights\n",
    "            \n",
    "#         elif self.cell=='LSTM':\n",
    "#             output,(h_n,c_n)=self.lstm(concatenated_output,hidden)\n",
    "#             output = self.softmax(self.out_put(output))\n",
    "#             return output,(h_n,c_n),attention_weights\n",
    "            \n",
    "            \n",
    "\n",
    "#     def decoder_attn_initial(self, batch_size, device=device):\n",
    "#         if self.cell == \"LSTM\":\n",
    "#             h_0 = torch.randn((1 + int(self.bi_dir)) * self.layer_dim, batch_size, self.hidden_dim,device=device)\n",
    "#             c_0 = torch.randn((1 + int(self.bi_dir)) * self.layer_dim, batch_size, self.hidden_dim,device=device)\n",
    "#             return (h_0,c_0)\n",
    "#         else:\n",
    "#             h_0 = torch.randn((1 + int(self.bi_dir)) * self.layer_dim, batch_size, self.hidden_dim,device=device)\n",
    "#             return h_0\n",
    "\n"
   ]
  },
  {
   "cell_type": "code",
   "execution_count": 60,
   "id": "2103d545",
   "metadata": {},
   "outputs": [],
   "source": [
    "# class Decoder_attention(nn.Module):\n",
    "#     def __init__(self, embed_dim, hidden_dim, layer_dim, drop_out, bi_dir, cell,\n",
    "#                  unique_tokens_hin, input_length,target_length):\n",
    "#         '''unique_token_hin is the third dimension in one hot encoding or no of tokens in hindi or output size'''\n",
    "#         #input_length is the sequence length of encoder input(english)\n",
    "#         super(Decoder_attention, self).__init__()\n",
    "#         self.hidden_dim = hidden_dim\n",
    "#         self.layer_dim = layer_dim\n",
    "#         self.cell = cell\n",
    "#         self.bi_dir = bi_dir\n",
    "#         self.unique_tokens_hin = unique_tokens_hin\n",
    "#         self.embed_dim = embed_dim\n",
    "#         self.drop_out = drop_out\n",
    "#         self.input_length = input_length\n",
    "#         self.target_length=target_length\n",
    "        \n",
    "#         self.embedding = nn.Embedding(unique_tokens_hin, embed_dim)\n",
    "#         self.dropout = nn.Dropout(p=self.drop_out)\n",
    "#         self.UattnSt_1 = nn.Linear(hidden_dim,hidden_dim) \n",
    "#         self.Wattnh_j = nn.Linear(hidden_dim,hidden_dim)\n",
    "#         self.tanh = nn.Tanh()\n",
    "#         self.e_jt = nn.Linear(hidden_dim,1)\n",
    "#         self.alpha_jt=nn.Softmax(dim=2)\n",
    "#         self.rnn = nn.RNN(embed_dim + hidden_dim, hidden_dim,\n",
    "#                     num_layers=self.layer_dim, batch_first=True, bidirectional=self.bi_dir, dropout=self.drop_out)\n",
    "#         self.gru = nn.GRU(embed_dim + hidden_dim , hidden_dim,\n",
    "#                     num_layers=self.layer_dim, batch_first=True, bidirectional=self.bi_dir, dropout=self.drop_out)\n",
    "#         self.lstm = nn.LSTM(embed_dim + hidden_dim, hidden_dim,\n",
    "#                     num_layers=self.layer_dim, batch_first=True, bidirectional=self.bi_dir, dropout=self.drop_out)\n",
    "#         self.relu = nn.ReLU()\n",
    "#         self.out_put = nn.Linear((1 + int(self.bi_dir)) * self.hidden_dim, self.unique_tokens_hin)\n",
    "#         self.softmax = nn.LogSoftmax(dim=-1)\n",
    "\n",
    "\n",
    "\n",
    "#     def forward(self, x, hidden, encoder_outputs):\n",
    "#         batch_size = x.size(0)\n",
    "#         x=x.to(device)\n",
    "#         embedding_output = self.embedding(x.long())\n",
    "#         embedding_output=embedding_output.to(device)\n",
    "#         embedding_output = self.dropout(embedding_output)\n",
    "       \n",
    "#         if self.cell =='LSTM':\n",
    "#             st_1 = hidden[0].unsqueeze(dim=2)\n",
    "#         else:\n",
    "#             st_1 = hidden.unsqueeze(dim=2)\n",
    "            \n",
    "#         a = self.UattnSt_1(st_1) \n",
    "#         b = self.Wattnh_j(encoder_outputs)\n",
    "\n",
    "#         att=a+b\n",
    "#         att=self.tanh(att)\n",
    "#         attention_score = self.e_jt(att)\n",
    "#         attention_weights=self.alpha_jt(attention_score)\n",
    "#         #print(attention_weights.shape)\n",
    "#         attention_weights = torch.mean(attention_weights,dim=0).squeeze(1)\n",
    "#         #print(attention_weights.shape)\n",
    "#         attention_weights=attention_weights.squeeze(-1).unsqueeze(1)\n",
    "#         h_j = torch.mean(encoder_outputs,dim=0).squeeze(0)\n",
    "        \n",
    "#         context_vector = torch.bmm(attention_weights,h_j)\n",
    "\n",
    "    \n",
    "#         context_vector=context_vector.to(device)\n",
    "#         #print(context.shape)\n",
    "#         concatenated_output = torch.cat((embedding_output, context_vector), dim=2)\n",
    "#         #(batch_size,1,embed_dim+hidden_dim)\n",
    "#         concatenated_output =self.relu(concatenated_output)\n",
    "\n",
    "\n",
    "#         if self.cell==\"GRU\":\n",
    "#             output,h_n=self.gru(concatenated_output,hidden)#.detach())\n",
    "#             output = self.softmax(self.out_put(output))\n",
    "#             return output,h_n,attention_weights\n",
    "           \n",
    "#         elif self.cell=='RNN':\n",
    "#             output,h_n=self.gru(concatenated_output,hidden)#.detach())\n",
    "#             return output,h_n,attention_weights\n",
    "            \n",
    "#         elif self.cell=='LSTM':\n",
    "#             output,(h_n,c_n)=self.lstm(concatenated_output,hidden)\n",
    "#             output = self.softmax(self.out_put(output))\n",
    "#             return output,(h_n,c_n),attention_weights\n",
    "            \n",
    "            \n",
    "\n",
    "#     def decoder_attn_initial(self, batch_size, device=device):\n",
    "#         if self.cell == \"LSTM\":\n",
    "#             h_0 = torch.randn((1 + int(self.bi_dir)) * self.layer_dim, batch_size, self.hidden_dim,device=device)\n",
    "#             c_0 = torch.randn((1 + int(self.bi_dir)) * self.layer_dim, batch_size, self.hidden_dim,device=device)\n",
    "#             return (h_0,c_0)\n",
    "#         else:\n",
    "#             h_0 = torch.randn((1 + int(self.bi_dir)) * self.layer_dim, batch_size, self.hidden_dim,device=device)\n",
    "#             return h_0\n",
    "\n"
   ]
  },
  {
   "cell_type": "code",
   "execution_count": 61,
   "id": "4166e1ff",
   "metadata": {},
   "outputs": [],
   "source": [
    "class Decoder_attention(nn.Module):\n",
    "    def __init__(self, embed_dim, hidden_dim, layer_dim, drop_out, bi_dir, cell,\n",
    "                 unique_tokens_hin, input_length,target_length):\n",
    "        '''unique_token_hin is the third dimension in one hot encoding or no of tokens in hindi or output size'''\n",
    "        #input_length is the sequence length of encoder input(english)\n",
    "        super(Decoder_attention, self).__init__()\n",
    "        self.hidden_dim = hidden_dim\n",
    "        self.layer_dim = layer_dim\n",
    "        self.cell = cell\n",
    "        self.bi_dir = bi_dir\n",
    "        self.unique_tokens_hin = unique_tokens_hin\n",
    "        self.embed_dim = embed_dim\n",
    "        self.drop_out = drop_out\n",
    "        self.input_length = input_length\n",
    "        self.target_length=target_length\n",
    "        \n",
    "        self.embedding = nn.Embedding(unique_tokens_hin, embed_dim)\n",
    "        self.dropout = nn.Dropout(p=self.drop_out)\n",
    "        self.UattnSt_1 = nn.Linear(hidden_dim,hidden_dim) \n",
    "        self.Wattnh_j = nn.Linear(hidden_dim,hidden_dim)\n",
    "        self.tanh = nn.Tanh()\n",
    "        self.e_jt = nn.Linear(hidden_dim,1)\n",
    "        self.alpha_jt=nn.Softmax(dim=1)\n",
    "        self.rnn = nn.RNN(embed_dim + hidden_dim, hidden_dim,\n",
    "                    num_layers=self.layer_dim, batch_first=True, bidirectional=self.bi_dir, dropout=self.drop_out)\n",
    "        self.gru = nn.GRU(embed_dim + hidden_dim , hidden_dim,\n",
    "                    num_layers=self.layer_dim, batch_first=True, bidirectional=self.bi_dir, dropout=self.drop_out)\n",
    "        self.lstm = nn.LSTM(embed_dim + hidden_dim, hidden_dim,\n",
    "                    num_layers=self.layer_dim, batch_first=True, bidirectional=self.bi_dir, dropout=self.drop_out)\n",
    "        self.relu = nn.ReLU()\n",
    "        self.out_put = nn.Linear((1 + int(self.bi_dir)) * self.hidden_dim, self.unique_tokens_hin)\n",
    "        self.softmax = nn.LogSoftmax(dim=-1)\n",
    "\n",
    "\n",
    "\n",
    "    def forward(self, x, hidden, encoder_outputs):\n",
    "        batch_size = x.size(0)\n",
    "        x=x.to(device)\n",
    "        embedding_output = self.embedding(x.long())\n",
    "        embedding_output=embedding_output.to(device)\n",
    "        embedding_output = self.dropout(embedding_output)\n",
    "       \n",
    "        if self.cell =='LSTM':\n",
    "            st_1 = hidden[0]#.unsqueeze(dim=2)\n",
    "        else:\n",
    "            st_1 = hidden#.unsqueeze(dim=2)\n",
    "        \n",
    "        encoder_outputs = torch.mean(encoder_outputs,dim=0)\n",
    "        encoder_outputs = encoder_outputs.squeeze(0)\n",
    "        st_1 = torch.mean(st_1,dim=0).squeeze(0).unsqueeze(1)\n",
    "        #print(encoder_outputs.shape)\n",
    "        #print(st_1.shape)\n",
    "        a = self.UattnSt_1(st_1) \n",
    "        b = self.Wattnh_j(encoder_outputs)\n",
    "\n",
    "        att=a+b\n",
    "        att=self.tanh(att)\n",
    "        attention_score = self.e_jt(att)\n",
    "        attention_weights=self.alpha_jt(attention_score)\n",
    "        #print(attention_weights.shape)\n",
    "        #attention_weights = torch.mean(attention_weights,dim=0).squeeze(1)\n",
    "        #print(attention_weights.shape)\n",
    "        attention_weights=attention_weights.squeeze(-1).unsqueeze(1)\n",
    "        #h_j = torch.mean(encoder_outputs,dim=0).squeeze(0)\n",
    "        \n",
    "        context_vector = torch.bmm(attention_weights,encoder_outputs)\n",
    "\n",
    "    \n",
    "        context_vector=context_vector.to(device)\n",
    "        #print(context.shape)\n",
    "        concatenated_output = torch.cat((embedding_output, context_vector), dim=2)\n",
    "        #(batch_size,1,embed_dim+hidden_dim)\n",
    "        concatenated_output =self.relu(concatenated_output)\n",
    "\n",
    "\n",
    "        if self.cell==\"GRU\":\n",
    "            output,h_n=self.gru(concatenated_output,hidden)#.detach())\n",
    "            output = self.softmax(self.out_put(output))\n",
    "            return output,h_n,attention_weights\n",
    "           \n",
    "        elif self.cell=='RNN':\n",
    "            output,h_n=self.gru(concatenated_output,hidden)#.detach())\n",
    "            return output,h_n,attention_weights\n",
    "            \n",
    "        elif self.cell=='LSTM':\n",
    "            output,(h_n,c_n)=self.lstm(concatenated_output,hidden)\n",
    "            output = self.softmax(self.out_put(output))\n",
    "            return output,(h_n,c_n),attention_weights\n",
    "            \n",
    "            \n",
    "\n",
    "    def decoder_attn_initial(self, batch_size, device=device):\n",
    "        if self.cell == \"LSTM\":\n",
    "            h_0 = torch.randn((1 + int(self.bi_dir)) * self.layer_dim, batch_size, self.hidden_dim,device=device)\n",
    "            c_0 = torch.randn((1 + int(self.bi_dir)) * self.layer_dim, batch_size, self.hidden_dim,device=device)\n",
    "            return (h_0,c_0)\n",
    "        else:\n",
    "            h_0 = torch.randn((1 + int(self.bi_dir)) * self.layer_dim, batch_size, self.hidden_dim,device=device)\n",
    "            return h_0\n",
    "\n"
   ]
  },
  {
   "cell_type": "code",
   "execution_count": 62,
   "id": "6ce055ae",
   "metadata": {},
   "outputs": [],
   "source": [
    "'''To use when the number of encoder and decoder layers are different'''\n",
    "class Reshape(nn.Module):\n",
    "    def __init__(self, num_enc_layers, num_dec_layers, cell, bi_dir):\n",
    "        super(Reshape, self).__init__()\n",
    "        self.num_enc_layers = num_enc_layers\n",
    "        self.num_dec_layers = num_dec_layers\n",
    "        self.cell = cell\n",
    "        self.bi_dir = bi_dir\n",
    "        self.linear = nn.Linear(num_enc_layers * int(1 + bi_dir), num_dec_layers * int(1 + bi_dir))\n",
    "\n",
    "    def forward(self, h_n_enc):\n",
    "        if self.cell == 'LSTM':\n",
    "            x=x.permute(*torch.arange(x.ndim - 1, -1, -1))\n",
    "            h_dec = self.linear(h_n_enc[0].permute(*torch.arange(h_n_enc.ndim - 1, -1, -1)))\n",
    "            c_dec = self.linear(h_n_enc[1].permute(*torch.arange(c_n_enc.ndim - 1, -1, -1)))\n",
    "            h_0_dec = (h_dec.permute(*torch.arange(h_dec.ndim - 1, -1, -1)),\n",
    "                       c_dec.permute(*torch.arange(c_dec.ndim - 1, -1, -1)))\n",
    "        else:\n",
    "            h_0_dec = self.linear(h_n_enc.permute(*torch.arange(h_n_enc.ndim - 1, -1, -1)))\n",
    "            h_0_dec = h_0_dec.permute(*torch.arange(h_0_dec.ndim - 1, -1, -1))\n",
    "        return h_0_dec\n"
   ]
  },
  {
   "cell_type": "code",
   "execution_count": 63,
   "id": "7e8fbede",
   "metadata": {},
   "outputs": [],
   "source": [
    "def gradient(input_tensor, target_tensor,target_onehot, encoder_model, decoder_model, encoder_optimizer,\n",
    "          decoder_optimizer,hidden_dim,criterion,input_length,target_length,batch_size,\n",
    "             teacher_forcing_ratio,layer_dim,bi_dir,cell,reshape,ropt,device=device):\n",
    "    \n",
    "    \n",
    "    h_0_enc = encoder_model.encoder_initial(batch_size)\n",
    "    encoder_optimizer.zero_grad()\n",
    "    decoder_optimizer.zero_grad()\n",
    "    #ropt.zero_grad()\n",
    "    uh=target_onehot.shape[-1]\n",
    "    decoder_predicted=torch.zeros(batch_size,target_length,uh,device=device)\n",
    "    loss = 0\n",
    "    encoder_outputs = torch.zeros(layer_dim * (1 + int(bi_dir)), batch_size, input_length, hidden_dim, device=device)\n",
    "    \n",
    "    encoder_model.train()\n",
    "    decoder_model.train()\n",
    "    #reshape.train()\n",
    "    \n",
    "    '''Encoder model is given and the representation of input word is taken from it'''\n",
    "    for i in range(input_length):\n",
    "        output_enc, h_n_enc = encoder_model(input_tensor[:,i].unsqueeze(1), h_0_enc)\n",
    "        if cell =='LSTM':\n",
    "            encoder_outputs[:,:,i:i+1,:]  = h_n_enc[0].unsqueeze(2)\n",
    "        else:\n",
    "             encoder_outputs[:,:,i:i+1,:]  = h_n_enc.unsqueeze(2)\n",
    "            \n",
    "        h_0_enc=h_n_enc\n",
    "\n",
    "    dec_input = torch.ones(batch_size,1,device=device)#start token is given as the input and the indices is 1.\n",
    "    #h_0_dec=reshape(h_n_enc)\n",
    "    h_0_dec=h_n_enc\n",
    "    use_teacher_forcing = True if random.random() < teacher_forcing_ratio else False\n",
    "    \n",
    "    if use_teacher_forcing:\n",
    "        # Teacher forcing: Feed the target as the next input\n",
    "        for i in range(target_length):\n",
    "            output_dec, h_n_dec,attention_weights = decoder_model(dec_input, h_0_dec,encoder_outputs)\n",
    "            decoder_predicted[:, i, :] = output_dec.squeeze(1)\n",
    "            loss += criterion(output_dec.reshape(-1,uh).float(), target_onehot[:,i:i+1,:].reshape(-1,uh).float())\n",
    "            #loss+=criterion(output_dec.view(-1,uh).float(),target_tensor[:,i].long())\n",
    "            dec_input = target_tensor[:,i].unsqueeze(1)  # Teacher forcing\n",
    "            h_0_dec = h_n_dec\n",
    "            \n",
    "\n",
    "    else:\n",
    "        # Without teacher forcing: use its own predictions as the next input\n",
    "        for i in range(target_length):\n",
    "            output_dec, h_n_dec,attention_weights = decoder_model(dec_input, h_0_dec,encoder_outputs)\n",
    "            #top_values, top_indices = output_dec.topk(k=1, dim=2)\n",
    "            #dec_input = top_indices.view(-1,1).detach()# detach from history as input\n",
    "            dec_input = torch.argmax(output_dec,dim=-1)\n",
    "            decoder_predicted[:, i, :] = output_dec.squeeze(1)\n",
    "            loss += criterion(output_dec.reshape(-1,uh).float(), target_onehot[:,i:i+1,:].reshape(-1,uh).float())\n",
    "            #loss+=criterion(output_dec.view(-1,uh).float(),target_tensor[:,i].long())\n",
    "            h_0_dec=h_n_dec\n",
    "    \n",
    "            \n",
    "    loss.backward()\n",
    "\n",
    "    encoder_optimizer.step()\n",
    "    decoder_optimizer.step()\n",
    "    #ropt.step()\n",
    "    \n",
    "    loss_batch = loss.item() / target_length\n",
    "    char_acc_batch = calculate_char_accuracy(decoder_predicted,target_onehot)\n",
    "    word_acc_batch = calculate_word_accuracy(decoder_predicted,target_onehot)\n",
    "    return loss_batch, char_acc_batch, word_acc_batch\n"
   ]
  },
  {
   "cell_type": "code",
   "execution_count": 64,
   "id": "239ffb6e",
   "metadata": {},
   "outputs": [],
   "source": [
    "def testing(input_tensor, target_tensor,target_onehot, \n",
    "            encoder_model, decoder_model,\n",
    "          hidden_dim,criterion,input_length,target_length,batch_size,\n",
    "             layer_dim,bi_dir,cell,reshape,device=device):\n",
    "    \n",
    "    encoder_outputs = torch.zeros(layer_dim * (1 + int(bi_dir)), batch_size, input_length, hidden_dim, device=device)\n",
    "    h_0_enc = encoder_model.encoder_initial(batch_size)\n",
    "    uh=target_onehot.shape[-1]\n",
    "    decoder_predicted=torch.zeros(batch_size,target_length,uh,device=device)\n",
    "    loss = 0\n",
    "    att_weights = torch.zeros(batch_size,target_length,input_length).to(device)\n",
    "    encoder_model.eval()\n",
    "    decoder_model.eval()\n",
    "    #reshape.eval()\n",
    "    #print('hi')\n",
    "    '''Encoder model is given and the representation of input word is taken from it'''\n",
    "    for i in range(input_length):\n",
    "        output_enc, h_n_enc = encoder_model(input_tensor[:,i].unsqueeze(1), h_0_enc)\n",
    "        \n",
    "        if cell =='LSTM':\n",
    "            encoder_outputs[:,:,i:i+1,:]  = h_n_enc[0].unsqueeze(2)\n",
    "        else:\n",
    "             encoder_outputs[:,:,i:i+1,:]  = h_n_enc.unsqueeze(2)\n",
    "        h_0_enc=h_n_enc\n",
    "\n",
    "    dec_input = torch.ones(batch_size,1,device=device)#start token is given as the input and the indices is 1.\n",
    "    #h_0_dec=reshape(h_n_enc)\n",
    "    h_0_dec=h_n_enc\n",
    "    \n",
    "    # Without teacher forcing: use its own predictions as the next input\n",
    "    for i in range(target_length):\n",
    "        output_dec, h_n_dec, attention_weights= decoder_model(dec_input, h_0_dec,encoder_outputs)\n",
    "        #top_values, top_indices = output_dec.topk(k=1, dim=2)\n",
    "        #dec_input = top_indices.view(-1,1).detach()# detach from history as input\n",
    "        att_weights[:,i:i+1,:] = attention_weights\n",
    "        dec_input = torch.argmax(output_dec,dim=-1)\n",
    "        decoder_predicted[:, i, :] = output_dec.squeeze(1)\n",
    "        h_0_dec=h_n_dec\n",
    "        loss += criterion(output_dec.reshape(-1,uh).float(), target_onehot[:,i:i+1,:].reshape(-1,uh).float())\n",
    "        #loss+=criterion(output_dec.view(-1,uh).float(),target_tensor[:,i].long())\n",
    "    \n",
    "    loss_batch = loss.item() / target_length\n",
    "    char_acc_batch = calculate_char_accuracy(decoder_predicted,target_onehot)\n",
    "    word_acc_batch = calculate_word_accuracy(decoder_predicted,target_onehot)\n",
    "    return loss_batch, char_acc_batch, word_acc_batch,att_weights,decoder_predicted\n"
   ]
  },
  {
   "cell_type": "code",
   "execution_count": 69,
   "id": "44469cd8",
   "metadata": {},
   "outputs": [],
   "source": [
    "def train(x=enc_input_data,y=dec_output_data,yonehot=decoder_output_data,\n",
    "          x_val=enc_input_data_val,y_val=dec_output_data_val,yonehot_val=decoder_output_data_val,\n",
    "          epochs=15,optimizer='Adam',learning_rate=0.001,weight_decay=0.0001,layer_dim=2,bi_dir=True,\n",
    "          teacher_forcing_ratio=0.5,cell='LSTM',embed_dim=256,hidden_dim=256,batch_size=64,drop_out=0.2):\n",
    "    \n",
    "    \n",
    "    start = time.time()\n",
    "    input_length = x.shape[1]\n",
    "    target_length = y.shape[1]\n",
    "    num_enc_layers=layer_dim\n",
    "    num_dec_layers=layer_dim\n",
    "    \n",
    "    encoder_model = Encoder(embed_dim, hidden_dim, num_enc_layers, drop_out, bi_dir, cell,unique_tokens_eng).to(device)\n",
    "    decoder_model = Decoder_attention(embed_dim, hidden_dim,layer_dim,drop_out,bi_dir,cell,unique_tokens_hin,\n",
    "                                      input_length,target_length).to(device)\n",
    "    reshape=Reshape(num_enc_layers, num_dec_layers, cell, bi_dir).to(device)\n",
    "    if optimizer=='Adam':\n",
    "        \n",
    "        encoder_optimizer=torch.optim.Adam(encoder_model.parameters(),lr=learning_rate,weight_decay=weight_decay)\n",
    "        decoder_optimizer=torch.optim.Adam(decoder_model.parameters(),lr=learning_rate,weight_decay=weight_decay)\n",
    "        #ropt = torch.optim.Adam(reshape.parameters(),lr=learning_rate,weight_decay=weight_decay)\n",
    "    elif optimizer=='NAdam':\n",
    "        \n",
    "        encoder_optimizer=torch.optim.NAdam(encoder_model.parameters(),lr=learning_rate,weight_decay=weight_decay)\n",
    "        decoder_optimizer=torch.optim.NAdam(decoder_model.parameters(),lr=learning_rate,weight_decay=weight_decay)\n",
    "        # ropt = torch.optim.NAdam(reshape.parameters(),lr=learning_rate,weight_decay=weight_decay)\n",
    "    elif optimizer=='SGD':\n",
    "        \n",
    "        encoder_optimizer=torch.optim.SGD(encoder_model.parameters(),lr=learning_rate,weight_decay=weight_decay)\n",
    "        decoder_optimizer=torch.optim.SGD(decoder_model.parameters(),lr=learning_rate,weight_decay=weight_decay)\n",
    "        ropt = torch.optim.SGD(reshape.parameters(),lr=learning_rate,weight_decay=weight_decay)\n",
    "        \n",
    "    train_loader = data_loader(x,y,yonehot,batch_size,device=device)\n",
    "    val_loader = data_loader(x_val,y_val,yonehot_val,batch_size,device=device)\n",
    "    \n",
    "    criterion = nn.CrossEntropyLoss()\n",
    "    #criterion=nn.NLLLoss()\n",
    "    \n",
    "    epoch_losses=[]\n",
    "    epoch_char_accuracy=[]\n",
    "    epoch_word_accuracy=[]\n",
    "    epoch_losses_val=[]\n",
    "    epoch_char_accuracy_val=[]\n",
    "    epoch_word_accuracy_val=[]\n",
    "    \n",
    "    for i in range(1, epochs + 1):\n",
    "        batch_losses=[]\n",
    "        batch_char_acc=[]\n",
    "        batch_word_acc=[]\n",
    "        batch_losses_val=[]\n",
    "        batch_char_acc_val=[]\n",
    "        batch_word_acc_val=[]\n",
    "        for enc_input_tensor,dec_target_tensor,dec_onehot in train_loader:\n",
    "            \n",
    "            loss_batch,char_acc_batch,word_acc_batch = gradient(enc_input_tensor,dec_target_tensor,dec_onehot,\n",
    "                    encoder_model,decoder_model,encoder_optimizer,decoder_optimizer,\n",
    "                    hidden_dim,criterion,input_length,target_length,batch_size, teacher_forcing_ratio,\n",
    "                            layer_dim,bi_dir,cell,reshape,ropt,device=device)\n",
    "            \n",
    "        for enc_input_tensor_val,dec_target_tensor_val,dec_onehot_val in val_loader: \n",
    "            \n",
    "            loss_batch_val,char_acc_batch_val,word_acc_batch_val,attention_weights,decoder_predicted=testing(enc_input_tensor_val,dec_target_tensor_val,\n",
    "                        dec_onehot_val,encoder_model,decoder_model,hidden_dim,criterion,input_length,\n",
    "                        target_length,batch_size,layer_dim,bi_dir,cell,reshape,device=device)\n",
    "          \n",
    "            batch_losses.append(loss_batch)\n",
    "            batch_char_acc.append(char_acc_batch)\n",
    "            batch_word_acc.append(word_acc_batch)\n",
    "            batch_losses_val.append(loss_batch_val)\n",
    "            batch_char_acc_val.append(char_acc_batch_val)\n",
    "            batch_word_acc_val.append(word_acc_batch_val)\n",
    "            \n",
    "            \n",
    "        epoch_loss=sum(batch_losses)/len(batch_losses)\n",
    "        epoch_char_acc=sum(batch_char_acc)/len(batch_char_acc)\n",
    "        epoch_word_acc=sum(batch_word_acc)/len(batch_word_acc)\n",
    "        epoch_losses.append(epoch_loss)\n",
    "        epoch_char_accuracy.append(epoch_char_acc)\n",
    "        epoch_word_accuracy.append(epoch_word_acc)\n",
    "        \n",
    "        epoch_loss_val = sum(batch_losses_val) / len(batch_losses_val)\n",
    "        epoch_char_acc_val = sum(batch_char_acc_val) / len(batch_char_acc_val)\n",
    "        epoch_word_acc_val = sum(batch_word_acc_val) / len(batch_word_acc_val)\n",
    "        epoch_losses_val.append(epoch_loss_val)\n",
    "        epoch_char_accuracy_val.append(epoch_char_acc_val)\n",
    "        epoch_word_accuracy_val.append(epoch_word_acc_val)\n",
    "        \n",
    "        #wandb.log({'train_loss': epoch_loss, 'train_char_acc': epoch_char_acc, 'train_word_acc': epoch_word_acc, 'valid_loss': epoch_loss_val, 'valid_char_acc': epoch_char_acc_val, 'valid_word_acc': epoch_word_acc_val})\n",
    "        print(f'{timeSince(start, i / epochs)} ({i} {i / epochs * 100:.2f}%) Trainloss: {epoch_losses[-1]:.4f} Char Accuracy: {epoch_char_accuracy[-1]:.4f} Word Accuracy: {epoch_word_accuracy[-1]:.4f}')\n",
    "        print(f'{timeSince(start, i / epochs)} ({i} {i / epochs * 100:.2f}%) Validationloss: {epoch_losses_val[-1]:.4f} Char Accuracy: {epoch_char_accuracy_val[-1]:.4f} Word Accuracy: {epoch_word_accuracy_val[-1]:.4f}')\n",
    "\n",
    "\n",
    "    return encoder_model,decoder_model,reshape,encoder_optimizer,decoder_optimizer,criterion,attention_weights\n",
    "    "
   ]
  },
  {
   "cell_type": "code",
   "execution_count": 70,
   "id": "b8888d10",
   "metadata": {
    "scrolled": true
   },
   "outputs": [
    {
     "name": "stdout",
     "output_type": "stream",
     "text": [
      "0m 48s (- 11m 20s) (1 6.67%) Trainloss: 0.6254 Char Accuracy: 81.1080 Word Accuracy: 14.0625\n",
      "0m 48s (- 11m 20s) (1 6.67%) Validationloss: 0.5019 Char Accuracy: 84.4161 Word Accuracy: 17.5781\n",
      "1m 36s (- 10m 29s) (2 13.33%) Trainloss: 0.2409 Char Accuracy: 93.6080 Word Accuracy: 29.6875\n",
      "1m 36s (- 10m 29s) (2 13.33%) Validationloss: 0.4150 Char Accuracy: 87.1249 Word Accuracy: 29.9316\n"
     ]
    },
    {
     "data": {
      "text/html": [
       " View run <strong style=\"color:#cdcd00\">lr_0.01_acti_NAdam_epochs_20_cell_GRU_dir_False_num_hid_128_ld_2_ed_128__drop__0.2</strong> at: <a href='https://wandb.ai/ananthu2014/CS6910-ASSIGNMENT_3/runs/ymy0hacv' target=\"_blank\">https://wandb.ai/ananthu2014/CS6910-ASSIGNMENT_3/runs/ymy0hacv</a><br/>Synced 6 W&B file(s), 0 media file(s), 0 artifact file(s) and 0 other file(s)"
      ],
      "text/plain": [
       "<IPython.core.display.HTML object>"
      ]
     },
     "metadata": {},
     "output_type": "display_data"
    },
    {
     "data": {
      "text/html": [
       "Find logs at: <code>./wandb/run-20230530_130943-ymy0hacv/logs</code>"
      ],
      "text/plain": [
       "<IPython.core.display.HTML object>"
      ]
     },
     "metadata": {},
     "output_type": "display_data"
    },
    {
     "name": "stdout",
     "output_type": "stream",
     "text": [
      "2m 24s (- 9m 39s) (3 20.00%) Trainloss: 0.2206 Char Accuracy: 94.6023 Word Accuracy: 34.3750\n",
      "2m 24s (- 9m 39s) (3 20.00%) Validationloss: 0.3813 Char Accuracy: 87.7963 Word Accuracy: 31.9092\n",
      "3m 12s (- 8m 50s) (4 26.67%) Trainloss: 0.1827 Char Accuracy: 95.1705 Word Accuracy: 37.5000\n",
      "3m 12s (- 8m 50s) (4 26.67%) Validationloss: 0.3731 Char Accuracy: 88.4266 Word Accuracy: 35.4248\n",
      "4m 1s (- 8m 3s) (5 33.33%) Trainloss: 0.1543 Char Accuracy: 96.3068 Word Accuracy: 46.8750\n",
      "4m 1s (- 8m 3s) (5 33.33%) Validationloss: 0.3735 Char Accuracy: 88.6896 Word Accuracy: 36.8896\n",
      "4m 50s (- 7m 15s) (6 40.00%) Trainloss: 0.3782 Char Accuracy: 88.9205 Word Accuracy: 42.1875\n",
      "4m 50s (- 7m 15s) (6 40.00%) Validationloss: 0.3834 Char Accuracy: 88.6885 Word Accuracy: 36.7188\n",
      "5m 38s (- 6m 26s) (7 46.67%) Trainloss: 0.1386 Char Accuracy: 96.5909 Word Accuracy: 50.0000\n",
      "5m 38s (- 6m 26s) (7 46.67%) Validationloss: 0.3660 Char Accuracy: 88.8150 Word Accuracy: 37.8174\n",
      "6m 25s (- 5m 37s) (8 53.33%) Trainloss: 0.1463 Char Accuracy: 96.0227 Word Accuracy: 43.7500\n",
      "6m 25s (- 5m 37s) (8 53.33%) Validationloss: 0.3525 Char Accuracy: 89.2179 Word Accuracy: 39.0137\n",
      "7m 14s (- 4m 49s) (9 60.00%) Trainloss: 0.1396 Char Accuracy: 96.5199 Word Accuracy: 46.8750\n",
      "7m 14s (- 4m 49s) (9 60.00%) Validationloss: 0.3628 Char Accuracy: 88.9959 Word Accuracy: 38.1592\n",
      "8m 2s (- 4m 1s) (10 66.67%) Trainloss: 0.3421 Char Accuracy: 90.0568 Word Accuracy: 48.4375\n",
      "8m 2s (- 4m 1s) (10 66.67%) Validationloss: 0.3708 Char Accuracy: 88.9449 Word Accuracy: 37.5244\n",
      "8m 51s (- 3m 13s) (11 73.33%) Trainloss: 0.1308 Char Accuracy: 96.7330 Word Accuracy: 54.6875\n",
      "8m 51s (- 3m 13s) (11 73.33%) Validationloss: 0.3521 Char Accuracy: 89.1590 Word Accuracy: 37.9395\n",
      "9m 38s (- 2m 24s) (12 80.00%) Trainloss: 0.1326 Char Accuracy: 96.8040 Word Accuracy: 56.2500\n",
      "9m 38s (- 2m 24s) (12 80.00%) Validationloss: 0.3687 Char Accuracy: 88.9826 Word Accuracy: 37.6221\n",
      "10m 24s (- 1m 36s) (13 86.67%) Trainloss: 0.1224 Char Accuracy: 97.0881 Word Accuracy: 56.2500\n",
      "10m 24s (- 1m 36s) (13 86.67%) Validationloss: 0.3529 Char Accuracy: 89.4997 Word Accuracy: 39.5264\n",
      "11m 11s (- 0m 47s) (14 93.33%) Trainloss: 0.2845 Char Accuracy: 91.9034 Word Accuracy: 64.0625\n",
      "11m 11s (- 0m 47s) (14 93.33%) Validationloss: 0.3686 Char Accuracy: 89.4487 Word Accuracy: 40.1123\n",
      "11m 57s (- 0m 0s) (15 100.00%) Trainloss: 0.1007 Char Accuracy: 97.3722 Word Accuracy: 57.8125\n",
      "11m 57s (- 0m 0s) (15 100.00%) Validationloss: 0.3796 Char Accuracy: 89.3910 Word Accuracy: 39.9170\n"
     ]
    }
   ],
   "source": [
    "encoder_model,decoder_model,reshape,encoder_optimizer,decoder_optimizer,criterion,attention_weights=train()"
   ]
  },
  {
   "cell_type": "code",
   "execution_count": 71,
   "id": "cff352f9",
   "metadata": {},
   "outputs": [],
   "source": [
    "enc_input_data_test=enc_input_data_test.to(device)\n",
    "dec_output_data_test=dec_output_data_test.to(device)\n",
    "decoder_output_data_test=decoder_output_data_test.to(device)\n"
   ]
  },
  {
   "cell_type": "code",
   "execution_count": 72,
   "id": "6ba0f2d2",
   "metadata": {
    "scrolled": true
   },
   "outputs": [],
   "source": [
    "test_loss, char_acc_test, word_acc_test,attention_weights_test,decoder_predicted = testing(enc_input_data_test,dec_output_data_test,\n",
    "                        decoder_output_data_test,encoder_model,decoder_model,256,criterion,26,22,4095,2,True,'LSTM',\n",
    "                                     reshape,device)"
   ]
  },
  {
   "cell_type": "code",
   "execution_count": null,
   "id": "a8db2f67",
   "metadata": {},
   "outputs": [],
   "source": []
  },
  {
   "cell_type": "code",
   "execution_count": 67,
   "id": "b7cf92a3",
   "metadata": {},
   "outputs": [],
   "source": [
    "# Sample wandb run()\n",
    "def wandb_run():\n",
    "    \n",
    "    config_defaults = {\n",
    "        'optimizer': 'Adam',\n",
    "        'learning_rate': 0.001,\n",
    "        'epochs': 10,\n",
    "        'hidden_dim': 512,\n",
    "        'embed_dim': 512,\n",
    "        'layer_dim': 2,\n",
    "        'drop_out': 0.3,\n",
    "        'cell': 'GRU',\n",
    "        'weight_decay': 0.001,\n",
    "        'bi_dir': True,\n",
    "        'batch_size': 64\n",
    "    }\n",
    "    wandb.init(config=config_defaults)\n",
    "    config = wandb.config\n",
    "    run_name = f'lr_{config.learning_rate}_acti_{config.optimizer}_epochs_{config.epochs}_cell_{config.cell}_dir_{config.bi_dir}_num_hid_{config.hidden_dim}_ld_{config.layer_dim}_ed_{config.embed_dim}__drop__{config.drop_out}'\n",
    "    print(run_name)\n",
    "    wandb.init(name=run_name)\n",
    "    encoder_model,decoder_model,reshape,encoder_optimizer,decoder_optimizer,criterion,attention_weights = train(\n",
    "        x=enc_input_data,\n",
    "        y=dec_output_data,\n",
    "        yonehot=decoder_output_data,\n",
    "        x_val=enc_input_data_val,\n",
    "        y_val=dec_output_data_val,\n",
    "        yonehot_val=decoder_output_data_val,\n",
    "        epochs=config.epochs,\n",
    "        optimizer=config.optimizer,\n",
    "        learning_rate=config.learning_rate,\n",
    "        weight_decay=config.weight_decay,\n",
    "        layer_dim=config.layer_dim,\n",
    "        bi_dir=config.bi_dir,\n",
    "        teacher_forcing_ratio=0.5,\n",
    "        cell=config.cell,\n",
    "        embed_dim=config.embed_dim,\n",
    "        hidden_dim=config.hidden_dim,\n",
    "        batch_size=config.batch_size,\n",
    "        drop_out=config.drop_out\n",
    "    )\n",
    "     \n",
    "    wandb.run.name = run_name\n",
    "    wandb.run.finish()\n"
   ]
  },
  {
   "cell_type": "code",
   "execution_count": 68,
   "id": "1102ca78",
   "metadata": {
    "scrolled": true
   },
   "outputs": [
    {
     "name": "stdout",
     "output_type": "stream",
     "text": [
      "Create sweep with ID: j9njgl9e\n",
      "Sweep URL: https://wandb.ai/ananthu2014/CS6910-ASSIGNMENT_3/sweeps/j9njgl9e\n"
     ]
    },
    {
     "name": "stderr",
     "output_type": "stream",
     "text": [
      "\u001b[34m\u001b[1mwandb\u001b[0m: Agent Starting Run: 7trfwpoy with config:\n",
      "\u001b[34m\u001b[1mwandb\u001b[0m: \tbatch_size: 64\n",
      "\u001b[34m\u001b[1mwandb\u001b[0m: \tbi_dir: False\n",
      "\u001b[34m\u001b[1mwandb\u001b[0m: \tcell: GRU\n",
      "\u001b[34m\u001b[1mwandb\u001b[0m: \tdrop_out: 0.1\n",
      "\u001b[34m\u001b[1mwandb\u001b[0m: \tembed_dim: 256\n",
      "\u001b[34m\u001b[1mwandb\u001b[0m: \tepochs: 20\n",
      "\u001b[34m\u001b[1mwandb\u001b[0m: \thidden_dim: 128\n",
      "\u001b[34m\u001b[1mwandb\u001b[0m: \tlayer_dim: 2\n",
      "\u001b[34m\u001b[1mwandb\u001b[0m: \tlearning_rate: 0.01\n",
      "\u001b[34m\u001b[1mwandb\u001b[0m: \toptimizer: NAdam\n",
      "\u001b[34m\u001b[1mwandb\u001b[0m: \tweight_decay: 0.0001\n",
      "\u001b[34m\u001b[1mwandb\u001b[0m: \u001b[33mWARNING\u001b[0m WANDB_NOTEBOOK_NAME should be a path to a notebook file, couldn't find /home/agcl/Downloads/CS6910_ASSIGNMENT_3-ATTENTION-model2.ipynb.\n"
     ]
    },
    {
     "data": {
      "text/html": [
       "Tracking run with wandb version 0.15.3"
      ],
      "text/plain": [
       "<IPython.core.display.HTML object>"
      ]
     },
     "metadata": {},
     "output_type": "display_data"
    },
    {
     "data": {
      "text/html": [
       "Run data is saved locally in <code>/home/agcl/Downloads/wandb/run-20230530_123804-7trfwpoy</code>"
      ],
      "text/plain": [
       "<IPython.core.display.HTML object>"
      ]
     },
     "metadata": {},
     "output_type": "display_data"
    },
    {
     "data": {
      "text/html": [
       "Syncing run <strong><a href='https://wandb.ai/ananthu2014/CS6910-ASSIGNMENT_3/runs/7trfwpoy' target=\"_blank\">crimson-sweep-1</a></strong> to <a href='https://wandb.ai/ananthu2014/CS6910-ASSIGNMENT_3' target=\"_blank\">Weights & Biases</a> (<a href='https://wandb.me/run' target=\"_blank\">docs</a>)<br/>Sweep page: <a href='https://wandb.ai/ananthu2014/CS6910-ASSIGNMENT_3/sweeps/j9njgl9e' target=\"_blank\">https://wandb.ai/ananthu2014/CS6910-ASSIGNMENT_3/sweeps/j9njgl9e</a>"
      ],
      "text/plain": [
       "<IPython.core.display.HTML object>"
      ]
     },
     "metadata": {},
     "output_type": "display_data"
    },
    {
     "data": {
      "text/html": [
       " View project at <a href='https://wandb.ai/ananthu2014/CS6910-ASSIGNMENT_3' target=\"_blank\">https://wandb.ai/ananthu2014/CS6910-ASSIGNMENT_3</a>"
      ],
      "text/plain": [
       "<IPython.core.display.HTML object>"
      ]
     },
     "metadata": {},
     "output_type": "display_data"
    },
    {
     "data": {
      "text/html": [
       " View sweep at <a href='https://wandb.ai/ananthu2014/CS6910-ASSIGNMENT_3/sweeps/j9njgl9e' target=\"_blank\">https://wandb.ai/ananthu2014/CS6910-ASSIGNMENT_3/sweeps/j9njgl9e</a>"
      ],
      "text/plain": [
       "<IPython.core.display.HTML object>"
      ]
     },
     "metadata": {},
     "output_type": "display_data"
    },
    {
     "data": {
      "text/html": [
       " View run at <a href='https://wandb.ai/ananthu2014/CS6910-ASSIGNMENT_3/runs/7trfwpoy' target=\"_blank\">https://wandb.ai/ananthu2014/CS6910-ASSIGNMENT_3/runs/7trfwpoy</a>"
      ],
      "text/plain": [
       "<IPython.core.display.HTML object>"
      ]
     },
     "metadata": {},
     "output_type": "display_data"
    },
    {
     "name": "stdout",
     "output_type": "stream",
     "text": [
      "lr_0.01_acti_NAdam_epochs_20_cell_GRU_dir_False_num_hid_128_ld_2_ed_256__drop__0.1\n"
     ]
    },
    {
     "data": {
      "text/html": [
       "Finishing last run (ID:7trfwpoy) before initializing another..."
      ],
      "text/plain": [
       "<IPython.core.display.HTML object>"
      ]
     },
     "metadata": {},
     "output_type": "display_data"
    },
    {
     "data": {
      "text/html": [
       "Waiting for W&B process to finish... <strong style=\"color:green\">(success).</strong>"
      ],
      "text/plain": [
       "<IPython.core.display.HTML object>"
      ]
     },
     "metadata": {},
     "output_type": "display_data"
    },
    {
     "data": {
      "text/html": [
       " View run <strong style=\"color:#cdcd00\">crimson-sweep-1</strong> at: <a href='https://wandb.ai/ananthu2014/CS6910-ASSIGNMENT_3/runs/7trfwpoy' target=\"_blank\">https://wandb.ai/ananthu2014/CS6910-ASSIGNMENT_3/runs/7trfwpoy</a><br/>Synced 6 W&B file(s), 0 media file(s), 0 artifact file(s) and 0 other file(s)"
      ],
      "text/plain": [
       "<IPython.core.display.HTML object>"
      ]
     },
     "metadata": {},
     "output_type": "display_data"
    },
    {
     "data": {
      "text/html": [
       "Find logs at: <code>./wandb/run-20230530_123804-7trfwpoy/logs</code>"
      ],
      "text/plain": [
       "<IPython.core.display.HTML object>"
      ]
     },
     "metadata": {},
     "output_type": "display_data"
    },
    {
     "data": {
      "text/html": [
       "Successfully finished last run (ID:7trfwpoy). Initializing new run:<br/>"
      ],
      "text/plain": [
       "<IPython.core.display.HTML object>"
      ]
     },
     "metadata": {},
     "output_type": "display_data"
    },
    {
     "data": {
      "application/vnd.jupyter.widget-view+json": {
       "model_id": "5af5b1caffeb4594b68c1896d1628baa",
       "version_major": 2,
       "version_minor": 0
      },
      "text/plain": [
       "VBox(children=(Label(value='Waiting for wandb.init()...\\r'), FloatProgress(value=0.01667080078332219, max=1.0)…"
      ]
     },
     "metadata": {},
     "output_type": "display_data"
    },
    {
     "data": {
      "text/html": [
       "Tracking run with wandb version 0.15.3"
      ],
      "text/plain": [
       "<IPython.core.display.HTML object>"
      ]
     },
     "metadata": {},
     "output_type": "display_data"
    },
    {
     "data": {
      "text/html": [
       "Run data is saved locally in <code>/home/agcl/Downloads/wandb/run-20230530_123811-7trfwpoy</code>"
      ],
      "text/plain": [
       "<IPython.core.display.HTML object>"
      ]
     },
     "metadata": {},
     "output_type": "display_data"
    },
    {
     "data": {
      "text/html": [
       "Syncing run <strong><a href='https://wandb.ai/ananthu2014/CS6910-ASSIGNMENT_3/runs/7trfwpoy' target=\"_blank\">lr_0.01_acti_NAdam_epochs_20_cell_GRU_dir_False_num_hid_128_ld_2_ed_256__drop__0.1</a></strong> to <a href='https://wandb.ai/ananthu2014/CS6910-ASSIGNMENT_3' target=\"_blank\">Weights & Biases</a> (<a href='https://wandb.me/run' target=\"_blank\">docs</a>)<br/>Sweep page: <a href='https://wandb.ai/ananthu2014/CS6910-ASSIGNMENT_3/sweeps/j9njgl9e' target=\"_blank\">https://wandb.ai/ananthu2014/CS6910-ASSIGNMENT_3/sweeps/j9njgl9e</a>"
      ],
      "text/plain": [
       "<IPython.core.display.HTML object>"
      ]
     },
     "metadata": {},
     "output_type": "display_data"
    },
    {
     "data": {
      "text/html": [
       " View project at <a href='https://wandb.ai/ananthu2014/CS6910-ASSIGNMENT_3' target=\"_blank\">https://wandb.ai/ananthu2014/CS6910-ASSIGNMENT_3</a>"
      ],
      "text/plain": [
       "<IPython.core.display.HTML object>"
      ]
     },
     "metadata": {},
     "output_type": "display_data"
    },
    {
     "data": {
      "text/html": [
       " View sweep at <a href='https://wandb.ai/ananthu2014/CS6910-ASSIGNMENT_3/sweeps/j9njgl9e' target=\"_blank\">https://wandb.ai/ananthu2014/CS6910-ASSIGNMENT_3/sweeps/j9njgl9e</a>"
      ],
      "text/plain": [
       "<IPython.core.display.HTML object>"
      ]
     },
     "metadata": {},
     "output_type": "display_data"
    },
    {
     "data": {
      "text/html": [
       " View run at <a href='https://wandb.ai/ananthu2014/CS6910-ASSIGNMENT_3/runs/7trfwpoy' target=\"_blank\">https://wandb.ai/ananthu2014/CS6910-ASSIGNMENT_3/runs/7trfwpoy</a>"
      ],
      "text/plain": [
       "<IPython.core.display.HTML object>"
      ]
     },
     "metadata": {},
     "output_type": "display_data"
    },
    {
     "name": "stdout",
     "output_type": "stream",
     "text": [
      "0m 40s (- 12m 44s) (1 5.00%) Trainloss: 0.4702 Char Accuracy: 86.7188 Word Accuracy: 7.8125\n",
      "0m 40s (- 12m 44s) (1 5.00%) Validationloss: 0.6006 Char Accuracy: 81.7527 Word Accuracy: 10.3516\n",
      "1m 18s (- 11m 48s) (2 10.00%) Trainloss: 0.6875 Char Accuracy: 78.9773 Word Accuracy: 10.9375\n",
      "1m 18s (- 11m 48s) (2 10.00%) Validationloss: 0.5559 Char Accuracy: 82.7404 Word Accuracy: 14.0625\n",
      "1m 57s (- 11m 3s) (3 15.00%) Trainloss: 0.5924 Char Accuracy: 81.3920 Word Accuracy: 10.9375\n",
      "1m 57s (- 11m 3s) (3 15.00%) Validationloss: 0.5431 Char Accuracy: 82.6838 Word Accuracy: 12.4023\n",
      "2m 35s (- 10m 23s) (4 20.00%) Trainloss: 0.6206 Char Accuracy: 81.0369 Word Accuracy: 17.1875\n",
      "2m 35s (- 10m 23s) (4 20.00%) Validationloss: 0.5058 Char Accuracy: 83.8490 Word Accuracy: 17.8955\n",
      "3m 14s (- 9m 44s) (5 25.00%) Trainloss: 0.6451 Char Accuracy: 79.7585 Word Accuracy: 12.5000\n",
      "3m 14s (- 9m 44s) (5 25.00%) Validationloss: 0.5210 Char Accuracy: 84.0765 Word Accuracy: 19.2383\n",
      "3m 53s (- 9m 4s) (6 30.00%) Trainloss: 0.3479 Char Accuracy: 90.7670 Word Accuracy: 14.0625\n",
      "3m 53s (- 9m 4s) (6 30.00%) Validationloss: 0.5013 Char Accuracy: 84.1053 Word Accuracy: 19.1650\n",
      "4m 32s (- 8m 25s) (7 35.00%) Trainloss: 0.3102 Char Accuracy: 91.4062 Word Accuracy: 14.0625\n",
      "4m 32s (- 8m 25s) (7 35.00%) Validationloss: 0.5132 Char Accuracy: 84.3417 Word Accuracy: 20.5811\n",
      "5m 10s (- 7m 45s) (8 40.00%) Trainloss: 0.6037 Char Accuracy: 80.8949 Word Accuracy: 9.3750\n",
      "5m 10s (- 7m 45s) (8 40.00%) Validationloss: 0.5305 Char Accuracy: 83.9078 Word Accuracy: 18.8721\n",
      "5m 48s (- 7m 5s) (9 45.00%) Trainloss: 0.5995 Char Accuracy: 82.1023 Word Accuracy: 14.0625\n",
      "5m 48s (- 7m 5s) (9 45.00%) Validationloss: 0.5050 Char Accuracy: 84.2152 Word Accuracy: 19.4580\n",
      "6m 25s (- 6m 25s) (10 50.00%) Trainloss: 0.3276 Char Accuracy: 90.7670 Word Accuracy: 10.9375\n",
      "6m 25s (- 6m 25s) (10 50.00%) Validationloss: 0.5229 Char Accuracy: 83.9633 Word Accuracy: 19.2139\n",
      "7m 4s (- 5m 47s) (11 55.00%) Trainloss: 0.3409 Char Accuracy: 90.7670 Word Accuracy: 9.3750\n",
      "7m 4s (- 5m 47s) (11 55.00%) Validationloss: 0.5291 Char Accuracy: 83.2730 Word Accuracy: 14.8926\n",
      "7m 43s (- 5m 9s) (12 60.00%) Trainloss: 0.2969 Char Accuracy: 91.0511 Word Accuracy: 15.6250\n",
      "7m 43s (- 5m 9s) (12 60.00%) Validationloss: 0.5260 Char Accuracy: 83.8279 Word Accuracy: 19.1162\n",
      "8m 20s (- 4m 29s) (13 65.00%) Trainloss: 0.6677 Char Accuracy: 80.2557 Word Accuracy: 18.7500\n",
      "8m 20s (- 4m 29s) (13 65.00%) Validationloss: 0.5314 Char Accuracy: 83.5971 Word Accuracy: 17.1143\n",
      "8m 58s (- 3m 50s) (14 70.00%) Trainloss: 0.6620 Char Accuracy: 78.9773 Word Accuracy: 7.8125\n",
      "8m 58s (- 3m 50s) (14 70.00%) Validationloss: 0.5534 Char Accuracy: 82.8880 Word Accuracy: 14.7949\n",
      "9m 34s (- 3m 11s) (15 75.00%) Trainloss: 0.7042 Char Accuracy: 78.6932 Word Accuracy: 15.6250\n",
      "9m 34s (- 3m 11s) (15 75.00%) Validationloss: 0.5673 Char Accuracy: 82.5107 Word Accuracy: 14.2578\n",
      "10m 11s (- 2m 32s) (16 80.00%) Trainloss: 0.6852 Char Accuracy: 80.1847 Word Accuracy: 7.8125\n",
      "10m 11s (- 2m 32s) (16 80.00%) Validationloss: 0.5664 Char Accuracy: 82.5162 Word Accuracy: 14.2090\n",
      "10m 48s (- 1m 54s) (17 85.00%) Trainloss: 0.7367 Char Accuracy: 78.0540 Word Accuracy: 6.2500\n",
      "10m 48s (- 1m 54s) (17 85.00%) Validationloss: 0.5803 Char Accuracy: 82.1578 Word Accuracy: 12.7441\n",
      "11m 26s (- 1m 16s) (18 90.00%) Trainloss: 0.7066 Char Accuracy: 78.1960 Word Accuracy: 10.9375\n",
      "11m 26s (- 1m 16s) (18 90.00%) Validationloss: 0.5639 Char Accuracy: 82.3975 Word Accuracy: 12.8906\n",
      "12m 4s (- 0m 38s) (19 95.00%) Trainloss: 0.4304 Char Accuracy: 87.6420 Word Accuracy: 9.3750\n",
      "12m 4s (- 0m 38s) (19 95.00%) Validationloss: 0.5814 Char Accuracy: 82.3497 Word Accuracy: 13.0615\n",
      "12m 45s (- 0m 0s) (20 100.00%) Trainloss: 0.6612 Char Accuracy: 79.4034 Word Accuracy: 6.2500\n",
      "12m 45s (- 0m 0s) (20 100.00%) Validationloss: 0.5707 Char Accuracy: 82.0645 Word Accuracy: 11.6455\n"
     ]
    },
    {
     "data": {
      "text/html": [
       "Waiting for W&B process to finish... <strong style=\"color:green\">(success).</strong>"
      ],
      "text/plain": [
       "<IPython.core.display.HTML object>"
      ]
     },
     "metadata": {},
     "output_type": "display_data"
    },
    {
     "data": {
      "application/vnd.jupyter.widget-view+json": {
       "model_id": "5c1cbba0f48945d1b68bd21603ede0a0",
       "version_major": 2,
       "version_minor": 0
      },
      "text/plain": [
       "VBox(children=(Label(value='0.002 MB of 0.002 MB uploaded (0.000 MB deduped)\\r'), FloatProgress(value=1.0, max…"
      ]
     },
     "metadata": {},
     "output_type": "display_data"
    },
    {
     "data": {
      "text/html": [
       " View run <strong style=\"color:#cdcd00\">lr_0.01_acti_NAdam_epochs_20_cell_GRU_dir_False_num_hid_128_ld_2_ed_256__drop__0.1</strong> at: <a href='https://wandb.ai/ananthu2014/CS6910-ASSIGNMENT_3/runs/7trfwpoy' target=\"_blank\">https://wandb.ai/ananthu2014/CS6910-ASSIGNMENT_3/runs/7trfwpoy</a><br/>Synced 6 W&B file(s), 0 media file(s), 0 artifact file(s) and 0 other file(s)"
      ],
      "text/plain": [
       "<IPython.core.display.HTML object>"
      ]
     },
     "metadata": {},
     "output_type": "display_data"
    },
    {
     "data": {
      "text/html": [
       "Find logs at: <code>./wandb/run-20230530_123811-7trfwpoy/logs</code>"
      ],
      "text/plain": [
       "<IPython.core.display.HTML object>"
      ]
     },
     "metadata": {},
     "output_type": "display_data"
    },
    {
     "name": "stderr",
     "output_type": "stream",
     "text": [
      "\u001b[34m\u001b[1mwandb\u001b[0m: Agent Starting Run: orheb02m with config:\n",
      "\u001b[34m\u001b[1mwandb\u001b[0m: \tbatch_size: 128\n",
      "\u001b[34m\u001b[1mwandb\u001b[0m: \tbi_dir: False\n",
      "\u001b[34m\u001b[1mwandb\u001b[0m: \tcell: GRU\n",
      "\u001b[34m\u001b[1mwandb\u001b[0m: \tdrop_out: 0.2\n",
      "\u001b[34m\u001b[1mwandb\u001b[0m: \tembed_dim: 512\n",
      "\u001b[34m\u001b[1mwandb\u001b[0m: \tepochs: 5\n",
      "\u001b[34m\u001b[1mwandb\u001b[0m: \thidden_dim: 128\n",
      "\u001b[34m\u001b[1mwandb\u001b[0m: \tlayer_dim: 3\n",
      "\u001b[34m\u001b[1mwandb\u001b[0m: \tlearning_rate: 0.001\n",
      "\u001b[34m\u001b[1mwandb\u001b[0m: \toptimizer: NAdam\n",
      "\u001b[34m\u001b[1mwandb\u001b[0m: \tweight_decay: 0\n",
      "\u001b[34m\u001b[1mwandb\u001b[0m: \u001b[33mWARNING\u001b[0m WANDB_NOTEBOOK_NAME should be a path to a notebook file, couldn't find /home/agcl/Downloads/CS6910_ASSIGNMENT_3-ATTENTION-model2.ipynb.\n"
     ]
    },
    {
     "data": {
      "text/html": [
       "Tracking run with wandb version 0.15.3"
      ],
      "text/plain": [
       "<IPython.core.display.HTML object>"
      ]
     },
     "metadata": {},
     "output_type": "display_data"
    },
    {
     "data": {
      "text/html": [
       "Run data is saved locally in <code>/home/agcl/Downloads/wandb/run-20230530_130716-orheb02m</code>"
      ],
      "text/plain": [
       "<IPython.core.display.HTML object>"
      ]
     },
     "metadata": {},
     "output_type": "display_data"
    },
    {
     "data": {
      "text/html": [
       "Syncing run <strong><a href='https://wandb.ai/ananthu2014/CS6910-ASSIGNMENT_3/runs/orheb02m' target=\"_blank\">northern-sweep-2</a></strong> to <a href='https://wandb.ai/ananthu2014/CS6910-ASSIGNMENT_3' target=\"_blank\">Weights & Biases</a> (<a href='https://wandb.me/run' target=\"_blank\">docs</a>)<br/>Sweep page: <a href='https://wandb.ai/ananthu2014/CS6910-ASSIGNMENT_3/sweeps/j9njgl9e' target=\"_blank\">https://wandb.ai/ananthu2014/CS6910-ASSIGNMENT_3/sweeps/j9njgl9e</a>"
      ],
      "text/plain": [
       "<IPython.core.display.HTML object>"
      ]
     },
     "metadata": {},
     "output_type": "display_data"
    },
    {
     "data": {
      "text/html": [
       " View project at <a href='https://wandb.ai/ananthu2014/CS6910-ASSIGNMENT_3' target=\"_blank\">https://wandb.ai/ananthu2014/CS6910-ASSIGNMENT_3</a>"
      ],
      "text/plain": [
       "<IPython.core.display.HTML object>"
      ]
     },
     "metadata": {},
     "output_type": "display_data"
    },
    {
     "data": {
      "text/html": [
       " View sweep at <a href='https://wandb.ai/ananthu2014/CS6910-ASSIGNMENT_3/sweeps/j9njgl9e' target=\"_blank\">https://wandb.ai/ananthu2014/CS6910-ASSIGNMENT_3/sweeps/j9njgl9e</a>"
      ],
      "text/plain": [
       "<IPython.core.display.HTML object>"
      ]
     },
     "metadata": {},
     "output_type": "display_data"
    },
    {
     "data": {
      "text/html": [
       " View run at <a href='https://wandb.ai/ananthu2014/CS6910-ASSIGNMENT_3/runs/orheb02m' target=\"_blank\">https://wandb.ai/ananthu2014/CS6910-ASSIGNMENT_3/runs/orheb02m</a>"
      ],
      "text/plain": [
       "<IPython.core.display.HTML object>"
      ]
     },
     "metadata": {},
     "output_type": "display_data"
    },
    {
     "name": "stdout",
     "output_type": "stream",
     "text": [
      "lr_0.001_acti_NAdam_epochs_5_cell_GRU_dir_False_num_hid_128_ld_3_ed_512__drop__0.2\n"
     ]
    },
    {
     "data": {
      "text/html": [
       "Finishing last run (ID:orheb02m) before initializing another..."
      ],
      "text/plain": [
       "<IPython.core.display.HTML object>"
      ]
     },
     "metadata": {},
     "output_type": "display_data"
    },
    {
     "data": {
      "text/html": [
       "Waiting for W&B process to finish... <strong style=\"color:green\">(success).</strong>"
      ],
      "text/plain": [
       "<IPython.core.display.HTML object>"
      ]
     },
     "metadata": {},
     "output_type": "display_data"
    },
    {
     "data": {
      "application/vnd.jupyter.widget-view+json": {
       "model_id": "a74943bcbccf428da2b8cf89b785f9f7",
       "version_major": 2,
       "version_minor": 0
      },
      "text/plain": [
       "VBox(children=(Label(value='0.002 MB of 0.002 MB uploaded (0.000 MB deduped)\\r'), FloatProgress(value=1.0, max…"
      ]
     },
     "metadata": {},
     "output_type": "display_data"
    },
    {
     "data": {
      "text/html": [
       " View run <strong style=\"color:#cdcd00\">northern-sweep-2</strong> at: <a href='https://wandb.ai/ananthu2014/CS6910-ASSIGNMENT_3/runs/orheb02m' target=\"_blank\">https://wandb.ai/ananthu2014/CS6910-ASSIGNMENT_3/runs/orheb02m</a><br/>Synced 6 W&B file(s), 0 media file(s), 0 artifact file(s) and 0 other file(s)"
      ],
      "text/plain": [
       "<IPython.core.display.HTML object>"
      ]
     },
     "metadata": {},
     "output_type": "display_data"
    },
    {
     "data": {
      "text/html": [
       "Find logs at: <code>./wandb/run-20230530_130716-orheb02m/logs</code>"
      ],
      "text/plain": [
       "<IPython.core.display.HTML object>"
      ]
     },
     "metadata": {},
     "output_type": "display_data"
    },
    {
     "data": {
      "text/html": [
       "Successfully finished last run (ID:orheb02m). Initializing new run:<br/>"
      ],
      "text/plain": [
       "<IPython.core.display.HTML object>"
      ]
     },
     "metadata": {},
     "output_type": "display_data"
    },
    {
     "data": {
      "text/html": [
       "Tracking run with wandb version 0.15.3"
      ],
      "text/plain": [
       "<IPython.core.display.HTML object>"
      ]
     },
     "metadata": {},
     "output_type": "display_data"
    },
    {
     "data": {
      "text/html": [
       "Run data is saved locally in <code>/home/agcl/Downloads/wandb/run-20230530_130723-orheb02m</code>"
      ],
      "text/plain": [
       "<IPython.core.display.HTML object>"
      ]
     },
     "metadata": {},
     "output_type": "display_data"
    },
    {
     "data": {
      "text/html": [
       "Syncing run <strong><a href='https://wandb.ai/ananthu2014/CS6910-ASSIGNMENT_3/runs/orheb02m' target=\"_blank\">lr_0.001_acti_NAdam_epochs_5_cell_GRU_dir_False_num_hid_128_ld_3_ed_512__drop__0.2</a></strong> to <a href='https://wandb.ai/ananthu2014/CS6910-ASSIGNMENT_3' target=\"_blank\">Weights & Biases</a> (<a href='https://wandb.me/run' target=\"_blank\">docs</a>)<br/>Sweep page: <a href='https://wandb.ai/ananthu2014/CS6910-ASSIGNMENT_3/sweeps/j9njgl9e' target=\"_blank\">https://wandb.ai/ananthu2014/CS6910-ASSIGNMENT_3/sweeps/j9njgl9e</a>"
      ],
      "text/plain": [
       "<IPython.core.display.HTML object>"
      ]
     },
     "metadata": {},
     "output_type": "display_data"
    },
    {
     "data": {
      "text/html": [
       " View project at <a href='https://wandb.ai/ananthu2014/CS6910-ASSIGNMENT_3' target=\"_blank\">https://wandb.ai/ananthu2014/CS6910-ASSIGNMENT_3</a>"
      ],
      "text/plain": [
       "<IPython.core.display.HTML object>"
      ]
     },
     "metadata": {},
     "output_type": "display_data"
    },
    {
     "data": {
      "text/html": [
       " View sweep at <a href='https://wandb.ai/ananthu2014/CS6910-ASSIGNMENT_3/sweeps/j9njgl9e' target=\"_blank\">https://wandb.ai/ananthu2014/CS6910-ASSIGNMENT_3/sweeps/j9njgl9e</a>"
      ],
      "text/plain": [
       "<IPython.core.display.HTML object>"
      ]
     },
     "metadata": {},
     "output_type": "display_data"
    },
    {
     "data": {
      "text/html": [
       " View run at <a href='https://wandb.ai/ananthu2014/CS6910-ASSIGNMENT_3/runs/orheb02m' target=\"_blank\">https://wandb.ai/ananthu2014/CS6910-ASSIGNMENT_3/runs/orheb02m</a>"
      ],
      "text/plain": [
       "<IPython.core.display.HTML object>"
      ]
     },
     "metadata": {},
     "output_type": "display_data"
    },
    {
     "name": "stdout",
     "output_type": "stream",
     "text": [
      "0m 19s (- 1m 19s) (1 20.00%) Trainloss: 0.9901 Char Accuracy: 73.7216 Word Accuracy: 0.0000\n",
      "0m 19s (- 1m 19s) (1 20.00%) Validationloss: 0.9523 Char Accuracy: 73.7837 Word Accuracy: 0.0488\n",
      "0m 39s (- 0m 59s) (2 40.00%) Trainloss: 0.6764 Char Accuracy: 80.3977 Word Accuracy: 0.7812\n",
      "0m 39s (- 0m 59s) (2 40.00%) Validationloss: 0.7175 Char Accuracy: 78.8641 Word Accuracy: 3.2959\n",
      "0m 59s (- 0m 39s) (3 60.00%) Trainloss: 0.7516 Char Accuracy: 76.4915 Word Accuracy: 0.7812\n",
      "0m 59s (- 0m 39s) (3 60.00%) Validationloss: 0.5783 Char Accuracy: 81.6295 Word Accuracy: 8.7402\n",
      "1m 20s (- 0m 20s) (4 80.00%) Trainloss: 0.6532 Char Accuracy: 79.4034 Word Accuracy: 7.0312\n",
      "1m 20s (- 0m 20s) (4 80.00%) Validationloss: 0.5188 Char Accuracy: 83.3108 Word Accuracy: 14.0381\n",
      "1m 40s (- 0m 0s) (5 100.00%) Trainloss: 0.6194 Char Accuracy: 80.7884 Word Accuracy: 10.9375\n",
      "1m 40s (- 0m 0s) (5 100.00%) Validationloss: 0.4806 Char Accuracy: 84.8722 Word Accuracy: 20.6299\n"
     ]
    },
    {
     "data": {
      "text/html": [
       "Waiting for W&B process to finish... <strong style=\"color:green\">(success).</strong>"
      ],
      "text/plain": [
       "<IPython.core.display.HTML object>"
      ]
     },
     "metadata": {},
     "output_type": "display_data"
    },
    {
     "data": {
      "application/vnd.jupyter.widget-view+json": {
       "model_id": "e15ff90c94be4bfba5e156b92692a2ee",
       "version_major": 2,
       "version_minor": 0
      },
      "text/plain": [
       "VBox(children=(Label(value='0.002 MB of 0.002 MB uploaded (0.000 MB deduped)\\r'), FloatProgress(value=1.0, max…"
      ]
     },
     "metadata": {},
     "output_type": "display_data"
    },
    {
     "data": {
      "text/html": [
       " View run <strong style=\"color:#cdcd00\">lr_0.001_acti_NAdam_epochs_5_cell_GRU_dir_False_num_hid_128_ld_3_ed_512__drop__0.2</strong> at: <a href='https://wandb.ai/ananthu2014/CS6910-ASSIGNMENT_3/runs/orheb02m' target=\"_blank\">https://wandb.ai/ananthu2014/CS6910-ASSIGNMENT_3/runs/orheb02m</a><br/>Synced 6 W&B file(s), 0 media file(s), 0 artifact file(s) and 0 other file(s)"
      ],
      "text/plain": [
       "<IPython.core.display.HTML object>"
      ]
     },
     "metadata": {},
     "output_type": "display_data"
    },
    {
     "data": {
      "text/html": [
       "Find logs at: <code>./wandb/run-20230530_130723-orheb02m/logs</code>"
      ],
      "text/plain": [
       "<IPython.core.display.HTML object>"
      ]
     },
     "metadata": {},
     "output_type": "display_data"
    },
    {
     "name": "stderr",
     "output_type": "stream",
     "text": [
      "\u001b[34m\u001b[1mwandb\u001b[0m: Sweep Agent: Waiting for job.\n",
      "\u001b[34m\u001b[1mwandb\u001b[0m: Job received.\n",
      "\u001b[34m\u001b[1mwandb\u001b[0m: Agent Starting Run: ymy0hacv with config:\n",
      "\u001b[34m\u001b[1mwandb\u001b[0m: \tbatch_size: 64\n",
      "\u001b[34m\u001b[1mwandb\u001b[0m: \tbi_dir: False\n",
      "\u001b[34m\u001b[1mwandb\u001b[0m: \tcell: GRU\n",
      "\u001b[34m\u001b[1mwandb\u001b[0m: \tdrop_out: 0.2\n",
      "\u001b[34m\u001b[1mwandb\u001b[0m: \tembed_dim: 128\n",
      "\u001b[34m\u001b[1mwandb\u001b[0m: \tepochs: 20\n",
      "\u001b[34m\u001b[1mwandb\u001b[0m: \thidden_dim: 128\n",
      "\u001b[34m\u001b[1mwandb\u001b[0m: \tlayer_dim: 2\n",
      "\u001b[34m\u001b[1mwandb\u001b[0m: \tlearning_rate: 0.01\n",
      "\u001b[34m\u001b[1mwandb\u001b[0m: \toptimizer: NAdam\n",
      "\u001b[34m\u001b[1mwandb\u001b[0m: \tweight_decay: 0\n",
      "\u001b[34m\u001b[1mwandb\u001b[0m: \u001b[33mWARNING\u001b[0m WANDB_NOTEBOOK_NAME should be a path to a notebook file, couldn't find /home/agcl/Downloads/CS6910_ASSIGNMENT_3-ATTENTION-model2.ipynb.\n"
     ]
    },
    {
     "data": {
      "text/html": [
       "Tracking run with wandb version 0.15.3"
      ],
      "text/plain": [
       "<IPython.core.display.HTML object>"
      ]
     },
     "metadata": {},
     "output_type": "display_data"
    },
    {
     "data": {
      "text/html": [
       "Run data is saved locally in <code>/home/agcl/Downloads/wandb/run-20230530_130937-ymy0hacv</code>"
      ],
      "text/plain": [
       "<IPython.core.display.HTML object>"
      ]
     },
     "metadata": {},
     "output_type": "display_data"
    },
    {
     "data": {
      "text/html": [
       "Syncing run <strong><a href='https://wandb.ai/ananthu2014/CS6910-ASSIGNMENT_3/runs/ymy0hacv' target=\"_blank\">pretty-sweep-3</a></strong> to <a href='https://wandb.ai/ananthu2014/CS6910-ASSIGNMENT_3' target=\"_blank\">Weights & Biases</a> (<a href='https://wandb.me/run' target=\"_blank\">docs</a>)<br/>Sweep page: <a href='https://wandb.ai/ananthu2014/CS6910-ASSIGNMENT_3/sweeps/j9njgl9e' target=\"_blank\">https://wandb.ai/ananthu2014/CS6910-ASSIGNMENT_3/sweeps/j9njgl9e</a>"
      ],
      "text/plain": [
       "<IPython.core.display.HTML object>"
      ]
     },
     "metadata": {},
     "output_type": "display_data"
    },
    {
     "data": {
      "text/html": [
       " View project at <a href='https://wandb.ai/ananthu2014/CS6910-ASSIGNMENT_3' target=\"_blank\">https://wandb.ai/ananthu2014/CS6910-ASSIGNMENT_3</a>"
      ],
      "text/plain": [
       "<IPython.core.display.HTML object>"
      ]
     },
     "metadata": {},
     "output_type": "display_data"
    },
    {
     "data": {
      "text/html": [
       " View sweep at <a href='https://wandb.ai/ananthu2014/CS6910-ASSIGNMENT_3/sweeps/j9njgl9e' target=\"_blank\">https://wandb.ai/ananthu2014/CS6910-ASSIGNMENT_3/sweeps/j9njgl9e</a>"
      ],
      "text/plain": [
       "<IPython.core.display.HTML object>"
      ]
     },
     "metadata": {},
     "output_type": "display_data"
    },
    {
     "data": {
      "text/html": [
       " View run at <a href='https://wandb.ai/ananthu2014/CS6910-ASSIGNMENT_3/runs/ymy0hacv' target=\"_blank\">https://wandb.ai/ananthu2014/CS6910-ASSIGNMENT_3/runs/ymy0hacv</a>"
      ],
      "text/plain": [
       "<IPython.core.display.HTML object>"
      ]
     },
     "metadata": {},
     "output_type": "display_data"
    },
    {
     "name": "stdout",
     "output_type": "stream",
     "text": [
      "lr_0.01_acti_NAdam_epochs_20_cell_GRU_dir_False_num_hid_128_ld_2_ed_128__drop__0.2\n"
     ]
    },
    {
     "data": {
      "text/html": [
       "Finishing last run (ID:ymy0hacv) before initializing another..."
      ],
      "text/plain": [
       "<IPython.core.display.HTML object>"
      ]
     },
     "metadata": {},
     "output_type": "display_data"
    },
    {
     "data": {
      "text/html": [
       "Waiting for W&B process to finish... <strong style=\"color:green\">(success).</strong>"
      ],
      "text/plain": [
       "<IPython.core.display.HTML object>"
      ]
     },
     "metadata": {},
     "output_type": "display_data"
    },
    {
     "data": {
      "text/html": [
       " View run <strong style=\"color:#cdcd00\">pretty-sweep-3</strong> at: <a href='https://wandb.ai/ananthu2014/CS6910-ASSIGNMENT_3/runs/ymy0hacv' target=\"_blank\">https://wandb.ai/ananthu2014/CS6910-ASSIGNMENT_3/runs/ymy0hacv</a><br/>Synced 6 W&B file(s), 0 media file(s), 0 artifact file(s) and 0 other file(s)"
      ],
      "text/plain": [
       "<IPython.core.display.HTML object>"
      ]
     },
     "metadata": {},
     "output_type": "display_data"
    },
    {
     "data": {
      "text/html": [
       "Find logs at: <code>./wandb/run-20230530_130937-ymy0hacv/logs</code>"
      ],
      "text/plain": [
       "<IPython.core.display.HTML object>"
      ]
     },
     "metadata": {},
     "output_type": "display_data"
    },
    {
     "data": {
      "text/html": [
       "Successfully finished last run (ID:ymy0hacv). Initializing new run:<br/>"
      ],
      "text/plain": [
       "<IPython.core.display.HTML object>"
      ]
     },
     "metadata": {},
     "output_type": "display_data"
    },
    {
     "data": {
      "text/html": [
       "Tracking run with wandb version 0.15.3"
      ],
      "text/plain": [
       "<IPython.core.display.HTML object>"
      ]
     },
     "metadata": {},
     "output_type": "display_data"
    },
    {
     "data": {
      "text/html": [
       "Run data is saved locally in <code>/home/agcl/Downloads/wandb/run-20230530_130943-ymy0hacv</code>"
      ],
      "text/plain": [
       "<IPython.core.display.HTML object>"
      ]
     },
     "metadata": {},
     "output_type": "display_data"
    },
    {
     "data": {
      "text/html": [
       "Syncing run <strong><a href='https://wandb.ai/ananthu2014/CS6910-ASSIGNMENT_3/runs/ymy0hacv' target=\"_blank\">lr_0.01_acti_NAdam_epochs_20_cell_GRU_dir_False_num_hid_128_ld_2_ed_128__drop__0.2</a></strong> to <a href='https://wandb.ai/ananthu2014/CS6910-ASSIGNMENT_3' target=\"_blank\">Weights & Biases</a> (<a href='https://wandb.me/run' target=\"_blank\">docs</a>)<br/>Sweep page: <a href='https://wandb.ai/ananthu2014/CS6910-ASSIGNMENT_3/sweeps/j9njgl9e' target=\"_blank\">https://wandb.ai/ananthu2014/CS6910-ASSIGNMENT_3/sweeps/j9njgl9e</a>"
      ],
      "text/plain": [
       "<IPython.core.display.HTML object>"
      ]
     },
     "metadata": {},
     "output_type": "display_data"
    },
    {
     "data": {
      "text/html": [
       " View project at <a href='https://wandb.ai/ananthu2014/CS6910-ASSIGNMENT_3' target=\"_blank\">https://wandb.ai/ananthu2014/CS6910-ASSIGNMENT_3</a>"
      ],
      "text/plain": [
       "<IPython.core.display.HTML object>"
      ]
     },
     "metadata": {},
     "output_type": "display_data"
    },
    {
     "data": {
      "text/html": [
       " View sweep at <a href='https://wandb.ai/ananthu2014/CS6910-ASSIGNMENT_3/sweeps/j9njgl9e' target=\"_blank\">https://wandb.ai/ananthu2014/CS6910-ASSIGNMENT_3/sweeps/j9njgl9e</a>"
      ],
      "text/plain": [
       "<IPython.core.display.HTML object>"
      ]
     },
     "metadata": {},
     "output_type": "display_data"
    },
    {
     "data": {
      "text/html": [
       " View run at <a href='https://wandb.ai/ananthu2014/CS6910-ASSIGNMENT_3/runs/ymy0hacv' target=\"_blank\">https://wandb.ai/ananthu2014/CS6910-ASSIGNMENT_3/runs/ymy0hacv</a>"
      ],
      "text/plain": [
       "<IPython.core.display.HTML object>"
      ]
     },
     "metadata": {},
     "output_type": "display_data"
    },
    {
     "name": "stdout",
     "output_type": "stream",
     "text": [
      "0m 35s (- 11m 21s) (1 5.00%) Trainloss: 0.4693 Char Accuracy: 86.4347 Word Accuracy: 4.6875\n",
      "0m 35s (- 11m 21s) (1 5.00%) Validationloss: 0.6053 Char Accuracy: 82.2587 Word Accuracy: 12.9883\n",
      "1m 12s (- 10m 48s) (2 10.00%) Trainloss: 0.6812 Char Accuracy: 79.2614 Word Accuracy: 4.6875\n",
      "1m 12s (- 10m 48s) (2 10.00%) Validationloss: 0.5532 Char Accuracy: 83.2486 Word Accuracy: 15.2588\n",
      "1m 48s (- 10m 12s) (3 15.00%) Trainloss: 0.4197 Char Accuracy: 87.0739 Word Accuracy: 4.6875\n",
      "1m 48s (- 10m 12s) (3 15.00%) Validationloss: 0.5543 Char Accuracy: 82.7836 Word Accuracy: 13.4766\n",
      "2m 24s (- 9m 37s) (4 20.00%) Trainloss: 0.4116 Char Accuracy: 88.6364 Word Accuracy: 7.8125\n",
      "2m 24s (- 9m 37s) (4 20.00%) Validationloss: 0.5619 Char Accuracy: 83.0855 Word Accuracy: 16.0645\n",
      "3m 0s (- 9m 2s) (5 25.00%) Trainloss: 0.7721 Char Accuracy: 77.0597 Word Accuracy: 3.1250\n",
      "3m 0s (- 9m 2s) (5 25.00%) Validationloss: 0.5951 Char Accuracy: 82.8303 Word Accuracy: 15.5029\n",
      "3m 37s (- 8m 26s) (6 30.00%) Trainloss: 0.4049 Char Accuracy: 87.9261 Word Accuracy: 9.3750\n",
      "3m 37s (- 8m 26s) (6 30.00%) Validationloss: 0.5588 Char Accuracy: 82.9679 Word Accuracy: 15.5029\n",
      "4m 13s (- 7m 50s) (7 35.00%) Trainloss: 0.6745 Char Accuracy: 80.2557 Word Accuracy: 0.0000\n",
      "4m 13s (- 7m 50s) (7 35.00%) Validationloss: 0.6942 Char Accuracy: 78.8696 Word Accuracy: 4.1992\n",
      "4m 49s (- 7m 14s) (8 40.00%) Trainloss: 0.8571 Char Accuracy: 75.2131 Word Accuracy: 0.0000\n",
      "4m 49s (- 7m 14s) (8 40.00%) Validationloss: 0.9129 Char Accuracy: 74.2731 Word Accuracy: 1.0986\n",
      "5m 25s (- 6m 37s) (9 45.00%) Trainloss: 0.8595 Char Accuracy: 76.2784 Word Accuracy: 0.0000\n",
      "5m 25s (- 6m 37s) (9 45.00%) Validationloss: 0.8908 Char Accuracy: 73.8936 Word Accuracy: 0.4395\n",
      "6m 1s (- 6m 1s) (10 50.00%) Trainloss: 1.0058 Char Accuracy: 71.0938 Word Accuracy: 0.0000\n",
      "6m 1s (- 6m 1s) (10 50.00%) Validationloss: 0.8648 Char Accuracy: 74.8912 Word Accuracy: 0.7324\n",
      "6m 37s (- 5m 25s) (11 55.00%) Trainloss: 0.7669 Char Accuracy: 77.6989 Word Accuracy: 0.0000\n",
      "6m 37s (- 5m 25s) (11 55.00%) Validationloss: 0.8371 Char Accuracy: 74.5938 Word Accuracy: 1.4160\n",
      "7m 13s (- 4m 49s) (12 60.00%) Trainloss: 0.8080 Char Accuracy: 76.8466 Word Accuracy: 0.0000\n",
      "7m 13s (- 4m 49s) (12 60.00%) Validationloss: 0.8525 Char Accuracy: 74.8080 Word Accuracy: 1.2695\n",
      "7m 49s (- 4m 12s) (13 65.00%) Trainloss: 1.0236 Char Accuracy: 70.4545 Word Accuracy: 0.0000\n",
      "7m 49s (- 4m 12s) (13 65.00%) Validationloss: 0.8348 Char Accuracy: 75.6081 Word Accuracy: 1.1719\n",
      "8m 25s (- 3m 36s) (14 70.00%) Trainloss: 1.2061 Char Accuracy: 66.1932 Word Accuracy: 0.0000\n",
      "8m 25s (- 3m 36s) (14 70.00%) Validationloss: 0.9611 Char Accuracy: 72.8427 Word Accuracy: 0.4883\n",
      "9m 0s (- 3m 0s) (15 75.00%) Trainloss: 0.8380 Char Accuracy: 76.5625 Word Accuracy: 0.0000\n",
      "9m 0s (- 3m 0s) (15 75.00%) Validationloss: 0.9092 Char Accuracy: 73.7793 Word Accuracy: 0.3906\n",
      "9m 36s (- 2m 24s) (16 80.00%) Trainloss: 0.8727 Char Accuracy: 74.6449 Word Accuracy: 0.0000\n",
      "9m 36s (- 2m 24s) (16 80.00%) Validationloss: 0.9231 Char Accuracy: 73.4963 Word Accuracy: 0.5371\n",
      "10m 11s (- 1m 47s) (17 85.00%) Trainloss: 1.2810 Char Accuracy: 66.7614 Word Accuracy: 0.0000\n",
      "10m 11s (- 1m 47s) (17 85.00%) Validationloss: 1.1640 Char Accuracy: 67.1143 Word Accuracy: 0.1221\n",
      "10m 46s (- 1m 11s) (18 90.00%) Trainloss: 0.9918 Char Accuracy: 72.9403 Word Accuracy: 0.0000\n",
      "10m 46s (- 1m 11s) (18 90.00%) Validationloss: 1.0425 Char Accuracy: 72.3034 Word Accuracy: 0.0488\n",
      "11m 22s (- 0m 35s) (19 95.00%) Trainloss: 1.2846 Char Accuracy: 67.7557 Word Accuracy: 0.0000\n",
      "11m 22s (- 0m 35s) (19 95.00%) Validationloss: 1.0567 Char Accuracy: 71.6686 Word Accuracy: 0.0488\n",
      "11m 58s (- 0m 0s) (20 100.00%) Trainloss: 0.9327 Char Accuracy: 73.6506 Word Accuracy: 0.0000\n",
      "11m 58s (- 0m 0s) (20 100.00%) Validationloss: 1.2902 Char Accuracy: 63.3911 Word Accuracy: 0.0244\n"
     ]
    },
    {
     "data": {
      "text/html": [
       "Waiting for W&B process to finish... <strong style=\"color:green\">(success).</strong>"
      ],
      "text/plain": [
       "<IPython.core.display.HTML object>"
      ]
     },
     "metadata": {},
     "output_type": "display_data"
    },
    {
     "name": "stderr",
     "output_type": "stream",
     "text": [
      "\u001b[34m\u001b[1mwandb\u001b[0m: Ctrl + C detected. Stopping sweep.\n"
     ]
    }
   ],
   "source": [
    "# Sweep configuration for wandb\n",
    "sweep_config = {\n",
    "    'method': 'bayes', \n",
    "    'metric': {\n",
    "        'name': 'valid_word_acc',\n",
    "        'goal': 'maximize'\n",
    "    },\n",
    "    'parameters': {\n",
    "        'optimizer': {\n",
    "            'values': ['NAdam']\n",
    "        },\n",
    "        'learning_rate': {\n",
    "            'values': [0.001, 0.01]\n",
    "        },\n",
    "        'epochs': {\n",
    "            'values': [5, 10, 20]\n",
    "        },\n",
    "        'hidden_dim': {\n",
    "            'values': [128,256,512]\n",
    "        },\n",
    "        'layer_dim': {\n",
    "            'values': [1,2,3]\n",
    "        },\n",
    "        'embed_dim': {\n",
    "            'values': [128,256,512]\n",
    "        },\n",
    "        'drop_out': {\n",
    "            'values': [0, 0.1, 0.2]\n",
    "        },\n",
    "        'cell': {\n",
    "            'values': [ 'LSTM', 'GRU']\n",
    "        },\n",
    "        'batch_size': {\n",
    "            'values': [64,128]\n",
    "        },\n",
    "        'weight_decay': {\n",
    "            'values': [0,0.0001]\n",
    "        },\n",
    "        'bi_dir': {\n",
    "            'values': [True, False]\n",
    "        }\n",
    "    }\n",
    "}\n",
    "\n",
    "sweep_id = wandb.sweep(sweep_config, project='CS6910-ASSIGNMENT_3')\n",
    "wandb.agent(sweep_id, function=wandb_run, count=50)"
   ]
  },
  {
   "cell_type": "code",
   "execution_count": 73,
   "id": "81bc3ca0",
   "metadata": {},
   "outputs": [
    {
     "data": {
      "text/plain": [
       "torch.Size([4095, 22, 26])"
      ]
     },
     "execution_count": 73,
     "metadata": {},
     "output_type": "execute_result"
    }
   ],
   "source": [
    "attention_weights_test.shape"
   ]
  },
  {
   "cell_type": "code",
   "execution_count": 74,
   "id": "3821eca9",
   "metadata": {},
   "outputs": [],
   "source": [
    "first=attention_weights[0]"
   ]
  },
  {
   "cell_type": "code",
   "execution_count": 75,
   "id": "8c01a40e",
   "metadata": {},
   "outputs": [
    {
     "name": "stderr",
     "output_type": "stream",
     "text": [
      "/home/agcl/anaconda3/lib/python3.9/site-packages/IPython/core/pylabtools.py:151: UserWarning: Glyph 2341 (\\N{DEVANAGARI LETTER THA}) missing from current font.\n",
      "  fig.canvas.print_figure(bytes_io, **kw)\n",
      "/home/agcl/anaconda3/lib/python3.9/site-packages/IPython/core/pylabtools.py:151: UserWarning: Matplotlib currently does not support Devanagari natively.\n",
      "  fig.canvas.print_figure(bytes_io, **kw)\n",
      "/home/agcl/anaconda3/lib/python3.9/site-packages/IPython/core/pylabtools.py:151: UserWarning: Glyph 2352 (\\N{DEVANAGARI LETTER RA}) missing from current font.\n",
      "  fig.canvas.print_figure(bytes_io, **kw)\n",
      "/home/agcl/anaconda3/lib/python3.9/site-packages/IPython/core/pylabtools.py:151: UserWarning: Glyph 2350 (\\N{DEVANAGARI LETTER MA}) missing from current font.\n",
      "  fig.canvas.print_figure(bytes_io, **kw)\n",
      "/home/agcl/anaconda3/lib/python3.9/site-packages/IPython/core/pylabtools.py:151: UserWarning: Glyph 2376 (\\N{DEVANAGARI VOWEL SIGN AI}) missing from current font.\n",
      "  fig.canvas.print_figure(bytes_io, **kw)\n",
      "/home/agcl/anaconda3/lib/python3.9/site-packages/IPython/core/pylabtools.py:151: UserWarning: Glyph 2325 (\\N{DEVANAGARI LETTER KA}) missing from current font.\n",
      "  fig.canvas.print_figure(bytes_io, **kw)\n",
      "/home/agcl/anaconda3/lib/python3.9/site-packages/IPython/core/pylabtools.py:151: UserWarning: Glyph 2381 (\\N{DEVANAGARI SIGN VIRAMA}) missing from current font.\n",
      "  fig.canvas.print_figure(bytes_io, **kw)\n",
      "/home/agcl/anaconda3/lib/python3.9/site-packages/IPython/core/pylabtools.py:151: UserWarning: Glyph 2360 (\\N{DEVANAGARI LETTER SA}) missing from current font.\n",
      "  fig.canvas.print_figure(bytes_io, **kw)\n"
     ]
    },
    {
     "data": {
      "image/png": "[encoded data removed]",
      "text/plain": [
       "<Figure size 640x480 with 2 Axes>"
      ]
     },
     "metadata": {},
     "output_type": "display_data"
    }
   ],
   "source": [
    "import matplotlib.pyplot as plt\n",
    "import seaborn as sns\n",
    "import numpy as np\n",
    "'''Includes padded character as well'''\n",
    "\n",
    "# Create a heatmap using seaborn\n",
    "sns.heatmap(first.cpu().detach().numpy(), cmap='Blues')\n",
    "\n",
    "# Set labels for x-axis and y-axis\n",
    "plt.xlabel(\"थरमैक्स\")\n",
    "plt.ylabel(\"thermax\")\n",
    "\n",
    "# Display the heatmap\n",
    "plt.show()\n"
   ]
  },
  {
   "cell_type": "code",
   "execution_count": 76,
   "id": "5c5672c3",
   "metadata": {},
   "outputs": [
    {
     "data": {
      "text/plain": [
       "torch.Size([4095, 22, 68])"
      ]
     },
     "execution_count": 76,
     "metadata": {},
     "output_type": "execute_result"
    }
   ],
   "source": [
    "decoder_predicted.shape"
   ]
  },
  {
   "cell_type": "code",
   "execution_count": 77,
   "id": "2dbd9c11",
   "metadata": {},
   "outputs": [],
   "source": [
    "dec_predicted = torch.argmax(decoder_predicted,dim=-1)"
   ]
  },
  {
   "cell_type": "code",
   "execution_count": 78,
   "id": "a355ad8f",
   "metadata": {},
   "outputs": [
    {
     "data": {
      "text/plain": [
       "torch.Size([4095, 22])"
      ]
     },
     "execution_count": 78,
     "metadata": {},
     "output_type": "execute_result"
    }
   ],
   "source": [
    "dec_predicted.shape"
   ]
  },
  {
   "cell_type": "code",
   "execution_count": 79,
   "id": "4f2e4521",
   "metadata": {},
   "outputs": [],
   "source": [
    "first9_words = dec_predicted[0:9]"
   ]
  },
  {
   "cell_type": "code",
   "execution_count": 80,
   "id": "ba682393",
   "metadata": {},
   "outputs": [
    {
     "name": "stdout",
     "output_type": "stream",
     "text": [
      "{'_': 0, '\\t': 1, '\\n': 2, ' ': 3, 'ँ': 4, 'ं': 5, 'ः': 6, 'अ': 7, 'आ': 8, 'इ': 9, 'ई': 10, 'उ': 11, 'ऊ': 12, 'ऋ': 13, 'ए': 14, 'ऐ': 15, 'ऑ': 16, 'ओ': 17, 'औ': 18, 'क': 19, 'ख': 20, 'ग': 21, 'घ': 22, 'ङ': 23, 'च': 24, 'छ': 25, 'ज': 26, 'झ': 27, 'ञ': 28, 'ट': 29, 'ठ': 30, 'ड': 31, 'ढ': 32, 'ण': 33, 'त': 34, 'थ': 35, 'द': 36, 'ध': 37, 'न': 38, 'प': 39, 'फ': 40, 'ब': 41, 'भ': 42, 'म': 43, 'य': 44, 'र': 45, 'ल': 46, 'ळ': 47, 'व': 48, 'श': 49, 'ष': 50, 'स': 51, 'ह': 52, '़': 53, 'ऽ': 54, 'ा': 55, 'ि': 56, 'ी': 57, 'ु': 58, 'ू': 59, 'ृ': 60, 'ॅ': 61, 'े': 62, 'ै': 63, 'ॉ': 64, 'ो': 65, 'ौ': 66, '्': 67}\n"
     ]
    }
   ],
   "source": [
    "print(char2int_hin)"
   ]
  },
  {
   "cell_type": "code",
   "execution_count": 81,
   "id": "4b59fe2b",
   "metadata": {},
   "outputs": [
    {
     "data": {
      "text/html": [
       "<div>\n",
       "<style scoped>\n",
       "    .dataframe tbody tr th:only-of-type {\n",
       "        vertical-align: middle;\n",
       "    }\n",
       "\n",
       "    .dataframe tbody tr th {\n",
       "        vertical-align: top;\n",
       "    }\n",
       "\n",
       "    .dataframe thead th {\n",
       "        text-align: right;\n",
       "    }\n",
       "</style>\n",
       "<table border=\"1\" class=\"dataframe\">\n",
       "  <thead>\n",
       "    <tr style=\"text-align: right;\">\n",
       "      <th></th>\n",
       "      <th>English</th>\n",
       "      <th>transliteration_in_hindi</th>\n",
       "    </tr>\n",
       "  </thead>\n",
       "  <tbody>\n",
       "    <tr>\n",
       "      <th>0</th>\n",
       "      <td>thermax</td>\n",
       "      <td>थरमैक्स</td>\n",
       "    </tr>\n",
       "    <tr>\n",
       "      <th>1</th>\n",
       "      <td>sikhaaega</td>\n",
       "      <td>सिखाएगा</td>\n",
       "    </tr>\n",
       "    <tr>\n",
       "      <th>2</th>\n",
       "      <td>learn</td>\n",
       "      <td>लर्न</td>\n",
       "    </tr>\n",
       "    <tr>\n",
       "      <th>3</th>\n",
       "      <td>twitters</td>\n",
       "      <td>ट्विटर्स</td>\n",
       "    </tr>\n",
       "    <tr>\n",
       "      <th>4</th>\n",
       "      <td>tirunelveli</td>\n",
       "      <td>तिरुनेलवेली</td>\n",
       "    </tr>\n",
       "    <tr>\n",
       "      <th>...</th>\n",
       "      <td>...</td>\n",
       "      <td>...</td>\n",
       "    </tr>\n",
       "    <tr>\n",
       "      <th>4091</th>\n",
       "      <td>saflata</td>\n",
       "      <td>सफ़लता</td>\n",
       "    </tr>\n",
       "    <tr>\n",
       "      <th>4092</th>\n",
       "      <td>shbana</td>\n",
       "      <td>शबाना</td>\n",
       "    </tr>\n",
       "    <tr>\n",
       "      <th>4093</th>\n",
       "      <td>khaatootolaa</td>\n",
       "      <td>खातूटोला</td>\n",
       "    </tr>\n",
       "    <tr>\n",
       "      <th>4094</th>\n",
       "      <td>shivastava</td>\n",
       "      <td>शिवास्तव</td>\n",
       "    </tr>\n",
       "    <tr>\n",
       "      <th>4095</th>\n",
       "      <td>preranapuree</td>\n",
       "      <td>प्रेरणापुरी</td>\n",
       "    </tr>\n",
       "  </tbody>\n",
       "</table>\n",
       "<p>4096 rows × 2 columns</p>\n",
       "</div>"
      ],
      "text/plain": [
       "           English transliteration_in_hindi\n",
       "0          thermax                  थरमैक्स\n",
       "1        sikhaaega                  सिखाएगा\n",
       "2            learn                     लर्न\n",
       "3         twitters                 ट्विटर्स\n",
       "4      tirunelveli              तिरुनेलवेली\n",
       "...            ...                      ...\n",
       "4091       saflata                   सफ़लता\n",
       "4092        shbana                    शबाना\n",
       "4093  khaatootolaa                 खातूटोला\n",
       "4094    shivastava                 शिवास्तव\n",
       "4095  preranapuree              प्रेरणापुरी\n",
       "\n",
       "[4096 rows x 2 columns]"
      ]
     },
     "execution_count": 81,
     "metadata": {},
     "output_type": "execute_result"
    }
   ],
   "source": [
    "df_test"
   ]
  },
  {
   "cell_type": "code",
   "execution_count": 82,
   "id": "f60b90e7",
   "metadata": {},
   "outputs": [
    {
     "data": {
      "text/plain": [
       "torch.Size([9, 22])"
      ]
     },
     "execution_count": 82,
     "metadata": {},
     "output_type": "execute_result"
    }
   ],
   "source": [
    "first9_words.shape"
   ]
  },
  {
   "cell_type": "code",
   "execution_count": 83,
   "id": "9ab51d43",
   "metadata": {},
   "outputs": [],
   "source": [
    "a=[]\n",
    "for i in range(9):\n",
    "    for j in range(22):\n",
    "        if first9_words[i,j] == 2:\n",
    "            a.append(j)"
   ]
  },
  {
   "cell_type": "code",
   "execution_count": 84,
   "id": "65e4e2c0",
   "metadata": {},
   "outputs": [
    {
     "data": {
      "text/plain": [
       "[7, 7, 5, 8, 11, 9, 9, 5, 9]"
      ]
     },
     "execution_count": 84,
     "metadata": {},
     "output_type": "execute_result"
    }
   ],
   "source": [
    "a"
   ]
  },
  {
   "cell_type": "code",
   "execution_count": 85,
   "id": "162ac4d2",
   "metadata": {},
   "outputs": [],
   "source": [
    "first9_words_eng = enc_input_data_test[:9]"
   ]
  },
  {
   "cell_type": "code",
   "execution_count": 86,
   "id": "e30fdab5",
   "metadata": {},
   "outputs": [
    {
     "data": {
      "text/plain": [
       "torch.Size([9, 26])"
      ]
     },
     "execution_count": 86,
     "metadata": {},
     "output_type": "execute_result"
    }
   ],
   "source": [
    "first9_words_eng.shape"
   ]
  },
  {
   "cell_type": "code",
   "execution_count": 87,
   "id": "b521e354",
   "metadata": {},
   "outputs": [],
   "source": [
    "b=[]\n",
    "for i in range(9):\n",
    "    for j in range(26):\n",
    "        if first9_words_eng[i,j] == 2:\n",
    "            b.append(j)"
   ]
  },
  {
   "cell_type": "code",
   "execution_count": 88,
   "id": "ecf45173",
   "metadata": {},
   "outputs": [
    {
     "data": {
      "text/plain": [
       "[8, 10, 6, 9, 12, 13, 10, 8, 9]"
      ]
     },
     "execution_count": 88,
     "metadata": {},
     "output_type": "execute_result"
    }
   ],
   "source": [
    "b"
   ]
  },
  {
   "cell_type": "code",
   "execution_count": 89,
   "id": "2a49064c",
   "metadata": {},
   "outputs": [
    {
     "data": {
      "text/plain": [
       "'The following plots doesnot contain any padded characters'"
      ]
     },
     "execution_count": 89,
     "metadata": {},
     "output_type": "execute_result"
    }
   ],
   "source": [
    "'''The following plots doesnot contain any padded characters'''"
   ]
  },
  {
   "cell_type": "code",
   "execution_count": 101,
   "id": "b606c9d2",
   "metadata": {
    "scrolled": false
   },
   "outputs": [
    {
     "data": {
      "image/png": "[encoded data removed]",
      "text/plain": [
       "<Figure size 640x480 with 2 Axes>"
      ]
     },
     "metadata": {},
     "output_type": "display_data"
    }
   ],
   "source": [
    "'''first word'''\n",
    "\n",
    "# Create a heatmap using seaborn\n",
    "sns.heatmap(attention_weights[0,0:8,0:8].cpu().detach().numpy(), cmap='viridis')\n",
    "\n",
    "# Set labels for x-axis and y-axis\n",
    "plt.xlabel(\"थरमैक्स\")\n",
    "plt.ylabel(\"thermax\")\n",
    "\n",
    "# Display the heatmap\n",
    "plt.show()\n"
   ]
  },
  {
   "cell_type": "code",
   "execution_count": 91,
   "id": "b983bb60",
   "metadata": {
    "scrolled": false
   },
   "outputs": [
    {
     "data": {
      "image/png": "[encoded data removed]",
      "text/plain": [
       "<Figure size 640x480 with 2 Axes>"
      ]
     },
     "metadata": {},
     "output_type": "display_data"
    }
   ],
   "source": [
    "'''second word'''\n",
    "\n",
    "# Create a heatmap using seaborn\n",
    "sns.heatmap(attention_weights[1,0:7,0:10].cpu().detach().numpy(), cmap='viridis')\n",
    "\n",
    "# Set labels for x-axis and y-axis\n",
    "plt.xlabel(\"थरमैक्स\")\n",
    "plt.ylabel(\"sikhaaega\")\n",
    "\n",
    "# Display the heatmap\n",
    "plt.show()\n"
   ]
  },
  {
   "cell_type": "code",
   "execution_count": 92,
   "id": "025fd637",
   "metadata": {
    "scrolled": false
   },
   "outputs": [
    {
     "name": "stderr",
     "output_type": "stream",
     "text": [
      "/home/agcl/anaconda3/lib/python3.9/site-packages/IPython/core/pylabtools.py:151: UserWarning: Glyph 2354 (\\N{DEVANAGARI LETTER LA}) missing from current font.\n",
      "  fig.canvas.print_figure(bytes_io, **kw)\n",
      "/home/agcl/anaconda3/lib/python3.9/site-packages/IPython/core/pylabtools.py:151: UserWarning: Glyph 2344 (\\N{DEVANAGARI LETTER NA}) missing from current font.\n",
      "  fig.canvas.print_figure(bytes_io, **kw)\n"
     ]
    },
    {
     "data": {
      "image/png": "[encoded data removed]",
      "text/plain": [
       "<Figure size 640x480 with 2 Axes>"
      ]
     },
     "metadata": {},
     "output_type": "display_data"
    }
   ],
   "source": [
    "'''third word'''\n",
    "\n",
    "# Create a heatmap using seaborn\n",
    "sns.heatmap(attention_weights[2,0:6,0:6].cpu().detach().numpy(), cmap='viridis')\n",
    "\n",
    "# Set labels for x-axis and y-axis\n",
    "plt.xlabel(\"लर्न\")\n",
    "plt.ylabel(\"learn\")\n",
    "\n",
    "# Display the heatmap\n",
    "plt.show()\n"
   ]
  },
  {
   "cell_type": "code",
   "execution_count": 93,
   "id": "4e0a7e95",
   "metadata": {
    "scrolled": false
   },
   "outputs": [
    {
     "name": "stderr",
     "output_type": "stream",
     "text": [
      "/home/agcl/anaconda3/lib/python3.9/site-packages/IPython/core/pylabtools.py:151: UserWarning: Glyph 2335 (\\N{DEVANAGARI LETTER TTA}) missing from current font.\n",
      "  fig.canvas.print_figure(bytes_io, **kw)\n",
      "/home/agcl/anaconda3/lib/python3.9/site-packages/IPython/core/pylabtools.py:151: UserWarning: Glyph 2357 (\\N{DEVANAGARI LETTER VA}) missing from current font.\n",
      "  fig.canvas.print_figure(bytes_io, **kw)\n",
      "/home/agcl/anaconda3/lib/python3.9/site-packages/IPython/core/pylabtools.py:151: UserWarning: Glyph 2367 (\\N{DEVANAGARI VOWEL SIGN I}) missing from current font.\n",
      "  fig.canvas.print_figure(bytes_io, **kw)\n"
     ]
    },
    {
     "data": {
      "image/png": "[encoded data removed]",
      "text/plain": [
       "<Figure size 640x480 with 2 Axes>"
      ]
     },
     "metadata": {},
     "output_type": "display_data"
    }
   ],
   "source": [
    "'''forth word'''\n",
    "\n",
    "# Create a heatmap using seaborn\n",
    "sns.heatmap(attention_weights[3,0:8,0:9].cpu().detach().numpy(), cmap='viridis')\n",
    "\n",
    "# Set labels for x-axis and y-axis\n",
    "plt.xlabel(\"ट्विटर्स\")\n",
    "plt.ylabel(\"twitters\")\n",
    "\n",
    "# Display the heatmap\n",
    "plt.show()\n"
   ]
  },
  {
   "cell_type": "code",
   "execution_count": 94,
   "id": "cdd518a1",
   "metadata": {
    "scrolled": false
   },
   "outputs": [
    {
     "name": "stderr",
     "output_type": "stream",
     "text": [
      "/home/agcl/anaconda3/lib/python3.9/site-packages/IPython/core/pylabtools.py:151: UserWarning: Glyph 2340 (\\N{DEVANAGARI LETTER TA}) missing from current font.\n",
      "  fig.canvas.print_figure(bytes_io, **kw)\n",
      "/home/agcl/anaconda3/lib/python3.9/site-packages/IPython/core/pylabtools.py:151: UserWarning: Glyph 2369 (\\N{DEVANAGARI VOWEL SIGN U}) missing from current font.\n",
      "  fig.canvas.print_figure(bytes_io, **kw)\n",
      "/home/agcl/anaconda3/lib/python3.9/site-packages/IPython/core/pylabtools.py:151: UserWarning: Glyph 2375 (\\N{DEVANAGARI VOWEL SIGN E}) missing from current font.\n",
      "  fig.canvas.print_figure(bytes_io, **kw)\n",
      "/home/agcl/anaconda3/lib/python3.9/site-packages/IPython/core/pylabtools.py:151: UserWarning: Glyph 2368 (\\N{DEVANAGARI VOWEL SIGN II}) missing from current font.\n",
      "  fig.canvas.print_figure(bytes_io, **kw)\n"
     ]
    },
    {
     "data": {
      "image/png": "[encoded data removed]",
      "text/plain": [
       "<Figure size 640x480 with 2 Axes>"
      ]
     },
     "metadata": {},
     "output_type": "display_data"
    }
   ],
   "source": [
    "'''fifth word'''\n",
    "\n",
    "# Create a heatmap using seaborn\n",
    "sns.heatmap(attention_weights[4,0:11,0:12].cpu().detach().numpy(), cmap='viridis')\n",
    "\n",
    "# Set labels for x-axis and y-axis\n",
    "plt.xlabel(\"तिरुनेलवेली\")\n",
    "plt.ylabel(\"tirunelveli\")\n",
    "\n",
    "# Display the heatmap\n",
    "plt.show()\n"
   ]
  },
  {
   "cell_type": "code",
   "execution_count": 95,
   "id": "e62ae0b8",
   "metadata": {
    "scrolled": false
   },
   "outputs": [
    {
     "data": {
      "image/png": "[encoded data removed]",
      "text/plain": [
       "<Figure size 640x480 with 2 Axes>"
      ]
     },
     "metadata": {},
     "output_type": "display_data"
    }
   ],
   "source": [
    "'''sixth word'''\n",
    "\n",
    "# Create a heatmap using seaborn\n",
    "sns.heatmap(attention_weights[5,0:11,0:13].cpu().detach().numpy(), cmap='viridis')\n",
    "\n",
    "# Set labels for x-axis and y-axis\n",
    "plt.xlabel(\"तिरुनेलवेली\")\n",
    "plt.ylabel(\"tirunelveli\")\n",
    "\n",
    "# Display the heatmap\n",
    "plt.show()"
   ]
  },
  {
   "cell_type": "code",
   "execution_count": 96,
   "id": "1e1d15b1",
   "metadata": {
    "scrolled": false
   },
   "outputs": [
    {
     "name": "stderr",
     "output_type": "stream",
     "text": [
      "/home/agcl/anaconda3/lib/python3.9/site-packages/IPython/core/pylabtools.py:151: UserWarning: Glyph 2346 (\\N{DEVANAGARI LETTER PA}) missing from current font.\n",
      "  fig.canvas.print_figure(bytes_io, **kw)\n",
      "/home/agcl/anaconda3/lib/python3.9/site-packages/IPython/core/pylabtools.py:151: UserWarning: Glyph 2358 (\\N{DEVANAGARI LETTER SHA}) missing from current font.\n",
      "  fig.canvas.print_figure(bytes_io, **kw)\n",
      "/home/agcl/anaconda3/lib/python3.9/site-packages/IPython/core/pylabtools.py:151: UserWarning: Glyph 2351 (\\N{DEVANAGARI LETTER YA}) missing from current font.\n",
      "  fig.canvas.print_figure(bytes_io, **kw)\n",
      "/home/agcl/anaconda3/lib/python3.9/site-packages/IPython/core/pylabtools.py:151: UserWarning: Glyph 2379 (\\N{DEVANAGARI VOWEL SIGN O}) missing from current font.\n",
      "  fig.canvas.print_figure(bytes_io, **kw)\n",
      "/home/agcl/anaconda3/lib/python3.9/site-packages/IPython/core/pylabtools.py:151: UserWarning: Glyph 2306 (\\N{DEVANAGARI SIGN ANUSVARA}) missing from current font.\n",
      "  fig.canvas.print_figure(bytes_io, **kw)\n"
     ]
    },
    {
     "data": {
      "image/png": "[encoded data removed]",
      "text/plain": [
       "<Figure size 640x480 with 2 Axes>"
      ]
     },
     "metadata": {},
     "output_type": "display_data"
    }
   ],
   "source": [
    "'''seventh word'''\n",
    "\n",
    "# Create a heatmap using seaborn\n",
    "sns.heatmap(attention_weights[6,0:9,0:10].cpu().detach().numpy(), cmap='viridis')\n",
    "\n",
    "# Set labels for x-axis and y-axis\n",
    "plt.xlabel(\"स्पेशियों\")\n",
    "plt.ylabel(\"speshiyon\")\n",
    "\n",
    "# Display the heatmap\n",
    "plt.show()"
   ]
  },
  {
   "cell_type": "code",
   "execution_count": 97,
   "id": "00955a6a",
   "metadata": {
    "scrolled": false
   },
   "outputs": [
    {
     "name": "stderr",
     "output_type": "stream",
     "text": [
      "/home/agcl/anaconda3/lib/python3.9/site-packages/IPython/core/pylabtools.py:151: UserWarning: Glyph 2370 (\\N{DEVANAGARI VOWEL SIGN UU}) missing from current font.\n",
      "  fig.canvas.print_figure(bytes_io, **kw)\n",
      "/home/agcl/anaconda3/lib/python3.9/site-packages/IPython/core/pylabtools.py:151: UserWarning: Glyph 2307 (\\N{DEVANAGARI SIGN VISARGA}) missing from current font.\n",
      "  fig.canvas.print_figure(bytes_io, **kw)\n"
     ]
    },
    {
     "data": {
      "image/png": "[encoded data removed]",
      "text/plain": [
       "<Figure size 640x480 with 2 Axes>"
      ]
     },
     "metadata": {},
     "output_type": "display_data"
    }
   ],
   "source": [
    "'''eigth word'''\n",
    "\n",
    "# Create a heatmap using seaborn\n",
    "sns.heatmap(attention_weights[7,0:5,0:8].cpu().detach().numpy(), cmap='viridis')\n",
    "\n",
    "# Set labels for x-axis and y-axis\n",
    "plt.xlabel(\"शुरूः\")\n",
    "plt.ylabel(\"shurooh\")\n",
    "\n",
    "# Display the heatmap\n",
    "plt.show()"
   ]
  },
  {
   "cell_type": "code",
   "execution_count": 98,
   "id": "1e2a1cf4",
   "metadata": {
    "scrolled": false
   },
   "outputs": [
    {
     "name": "stderr",
     "output_type": "stream",
     "text": [
      "/home/agcl/anaconda3/lib/python3.9/site-packages/IPython/core/pylabtools.py:151: UserWarning: Glyph 2361 (\\N{DEVANAGARI LETTER HA}) missing from current font.\n",
      "  fig.canvas.print_figure(bytes_io, **kw)\n",
      "/home/agcl/anaconda3/lib/python3.9/site-packages/IPython/core/pylabtools.py:151: UserWarning: Glyph 2366 (\\N{DEVANAGARI VOWEL SIGN AA}) missing from current font.\n",
      "  fig.canvas.print_figure(bytes_io, **kw)\n"
     ]
    },
    {
     "data": {
      "image/png": "[encoded data removed]",
      "text/plain": [
       "<Figure size 640x480 with 2 Axes>"
      ]
     },
     "metadata": {},
     "output_type": "display_data"
    }
   ],
   "source": [
    "'''ninth word'''\n",
    "\n",
    "# Create a heatmap using seaborn\n",
    "sns.heatmap(attention_weights[8,0:9,0:9].cpu().detach().numpy(), cmap='viridis')\n",
    "\n",
    "# Set labels for x-axis and y-axis\n",
    "plt.xlabel(\"कोल्हापुरः\")\n",
    "plt.ylabel(\"kolhapur\")\n",
    "\n",
    "# Display the heatmap\n",
    "plt.show()"
   ]
  }
 ],
 "metadata": {
  "kernelspec": {
   "display_name": "Python 3 (ipykernel)",
   "language": "python",
   "name": "python3"
  },
  "language_info": {
   "codemirror_mode": {
    "name": "ipython",
    "version": 3
   },
   "file_extension": ".py",
   "mimetype": "text/x-python",
   "name": "python",
   "nbconvert_exporter": "python",
   "pygments_lexer": "ipython3",
   "version": "3.9.13"
  }
 },
 "nbformat": 4,
 "nbformat_minor": 5
}
